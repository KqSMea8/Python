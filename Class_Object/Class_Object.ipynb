{
 "cells": [
  {
   "cell_type": "code",
   "execution_count": 11,
   "metadata": {},
   "outputs": [],
   "source": [
    "# \"self\" = \"this\" in Java"
   ]
  },
  {
   "cell_type": "code",
   "execution_count": 12,
   "metadata": {},
   "outputs": [],
   "source": [
    "# class Robot:\n",
    "   # def introduce(self):\n",
    "       # print(\"My name is \" + self.name)"
   ]
  },
  {
   "cell_type": "code",
   "execution_count": 13,
   "metadata": {},
   "outputs": [],
   "source": [
    "# r1=Robot()\n",
    "# r1.name=\"Jimmy\"\n",
    "# r1.color=\"blue\"\n",
    "# r1.weight=58\n",
    "\n",
    "# r2=Robot()\n",
    "# r2.name=\"Ruby\"\n",
    "# r2.color=\"white\"\n",
    "# r2.weight=40"
   ]
  },
  {
   "cell_type": "code",
   "execution_count": 14,
   "metadata": {},
   "outputs": [
    {
     "name": "stdout",
     "output_type": "stream",
     "text": [
      "My name is Jimmy\n",
      "My name is Ruby\n"
     ]
    }
   ],
   "source": [
    "# r1.introduce()\n",
    "# r2.introduce()"
   ]
  },
  {
   "cell_type": "code",
   "execution_count": 30,
   "metadata": {},
   "outputs": [],
   "source": [
    "class Robot:\n",
    "    def __init__(self,name,color,weight):\n",
    "        self.name=name\n",
    "        self.color=color\n",
    "        self.weight=weight\n",
    "    def introduce(self):\n",
    "        print(\"My name is \" + self.name)"
   ]
  },
  {
   "cell_type": "code",
   "execution_count": 31,
   "metadata": {},
   "outputs": [],
   "source": [
    "r1=Robot(\"Jimmy\",\"blue\",58)\n",
    "r2=Robot(\"Ruby\",\"white\",40)"
   ]
  },
  {
   "cell_type": "code",
   "execution_count": 32,
   "metadata": {},
   "outputs": [
    {
     "name": "stdout",
     "output_type": "stream",
     "text": [
      "My name is Jimmy\n",
      "My name is Ruby\n"
     ]
    }
   ],
   "source": [
    "r1.introduce()\n",
    "r2.introduce()"
   ]
  },
  {
   "cell_type": "code",
   "execution_count": null,
   "metadata": {},
   "outputs": [],
   "source": []
  }
 ],
 "metadata": {
  "kernelspec": {
   "display_name": "Python 3",
   "language": "python",
   "name": "python3"
  },
  "language_info": {
   "codemirror_mode": {
    "name": "ipython",
    "version": 3
   },
   "file_extension": ".py",
   "mimetype": "text/x-python",
   "name": "python",
   "nbconvert_exporter": "python",
   "pygments_lexer": "ipython3",
   "version": "3.6.5"
  }
 },
 "nbformat": 4,
 "nbformat_minor": 2
}
