{
 "cells": [
  {
   "cell_type": "code",
   "execution_count": 11,
   "metadata": {},
   "outputs": [],
   "source": [
    "# \"self\" = \"this\" in Java"
   ]
  },
  {
   "cell_type": "code",
   "execution_count": 12,
   "metadata": {},
   "outputs": [],
   "source": [
    "# class Robot:\n",
    "   # def introduce(self):\n",
    "       # print(\"My name is \" + self.name)"
   ]
  },
  {
   "cell_type": "code",
   "execution_count": 13,
   "metadata": {},
   "outputs": [],
   "source": [
    "# s1=Robot()\n",
    "# s1.name=\"Jimmy\"\n",
    "# s1.color=\"blue\"\n",
    "# s1.weight=58\n",
    "\n",
    "# s2=Robot()\n",
    "# s2.name=\"Ruby\"\n",
    "# s2.color=\"white\"\n",
    "# s2.weight=40"
   ]
  },
  {
   "cell_type": "code",
   "execution_count": 14,
   "metadata": {},
   "outputs": [
    {
     "name": "stdout",
     "output_type": "stream",
     "text": [
      "My name is Jimmy\n",
      "My name is Ruby\n"
     ]
    }
   ],
   "source": [
    "# s1.introduce()\n",
    "# s2.introduce()"
   ]
  },
  {
   "cell_type": "code",
   "execution_count": 15,
   "metadata": {},
   "outputs": [],
   "source": [
    "class Robot:\n",
    "    def __init__(self,name,color,weight):\n",
    "        self.name=name\n",
    "        self.color=color\n",
    "        self.weight=weight\n",
    "    def introduce(self):\n",
    "        print(\"My name is \" + self.name)"
   ]
  },
  {
   "cell_type": "code",
   "execution_count": 28,
   "metadata": {},
   "outputs": [],
   "source": [
    "s1=Robot(\"Jimmy\",\"blue\",58)\n",
    "s2=Robot(\"Ruby\",\"white\",40)"
   ]
  },
  {
   "cell_type": "code",
   "execution_count": 29,
   "metadata": {},
   "outputs": [
    {
     "name": "stdout",
     "output_type": "stream",
     "text": [
      "My name is Jimmy\n",
      "My name is Ruby\n"
     ]
    }
   ],
   "source": [
    "s1.introduce()\n",
    "s2.introduce()"
   ]
  },
  {
   "cell_type": "code",
   "execution_count": null,
   "metadata": {},
   "outputs": [],
   "source": []
  }
 ],
 "metadata": {
  "kernelspec": {
   "display_name": "Python 3",
   "language": "python",
   "name": "python3"
  },
  "language_info": {
   "codemirror_mode": {
    "name": "ipython",
    "version": 3
   },
   "file_extension": ".py",
   "mimetype": "text/x-python",
   "name": "python",
   "nbconvert_exporter": "python",
   "pygments_lexer": "ipython3",
   "version": "3.6.5"
  }
 },
 "nbformat": 4,
 "nbformat_minor": 2
}
