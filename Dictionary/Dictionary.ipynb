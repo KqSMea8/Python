{
 "cells": [
  {
   "cell_type": "code",
   "execution_count": 1,
   "metadata": {},
   "outputs": [],
   "source": [
    "a={}\n",
    "# a={\"Jimmy\":21,\"Billy\":22}\n",
    "# Key->Value\n",
    "# Values can be any type\n",
    "# Keys are commonly Strings or Numbers and can't be repeated"
   ]
  },
  {
   "cell_type": "code",
   "execution_count": 3,
   "metadata": {},
   "outputs": [],
   "source": [
    "a[\"Jimmy\"]=21\n",
    "a[\"Billy\"]=22"
   ]
  },
  {
   "cell_type": "code",
   "execution_count": 4,
   "metadata": {},
   "outputs": [
    {
     "name": "stdout",
     "output_type": "stream",
     "text": [
      "{'Jimmy': 21, 'Billy': 22}\n"
     ]
    }
   ],
   "source": [
    "print(a)"
   ]
  },
  {
   "cell_type": "code",
   "execution_count": 5,
   "metadata": {},
   "outputs": [
    {
     "name": "stdout",
     "output_type": "stream",
     "text": [
      "21\n"
     ]
    }
   ],
   "source": [
    "print(a[\"Jimmy\"])"
   ]
  },
  {
   "cell_type": "code",
   "execution_count": 6,
   "metadata": {},
   "outputs": [],
   "source": [
    "a[10]=100"
   ]
  },
  {
   "cell_type": "code",
   "execution_count": 7,
   "metadata": {},
   "outputs": [
    {
     "name": "stdout",
     "output_type": "stream",
     "text": [
      "100\n"
     ]
    }
   ],
   "source": [
    "print(a[10])"
   ]
  },
  {
   "cell_type": "code",
   "execution_count": 26,
   "metadata": {},
   "outputs": [
    {
     "name": "stdout",
     "output_type": "stream",
     "text": [
      "Jimmy\n",
      "21\n",
      "\n",
      "Billy\n",
      "22\n",
      "\n",
      "10\n",
      "100\n",
      "\n"
     ]
    }
   ],
   "source": [
    "for key,value in a.items():\n",
    "    print(key)\n",
    "    print(value)\n",
    "    print(\"\")"
   ]
  },
  {
   "cell_type": "code",
   "execution_count": 3,
   "metadata": {},
   "outputs": [
    {
     "name": "stdout",
     "output_type": "stream",
     "text": [
      "<class 'dict'>\n",
      "{'apple': 60, 'banana': 50, 'pineapple': 90}\n",
      "60\n"
     ]
    }
   ],
   "source": [
    "fruits={'apple':60,'banana':50,'pineapple':90}\n",
    "print(type(fruits))\n",
    "print(fruits)\n",
    "print(fruits['apple'])"
   ]
  },
  {
   "cell_type": "code",
   "execution_count": 4,
   "metadata": {},
   "outputs": [
    {
     "name": "stdout",
     "output_type": "stream",
     "text": [
      "30\n"
     ]
    }
   ],
   "source": [
    "fruits['watermelon']=30\n",
    "print(fruits['watermelon'])"
   ]
  },
  {
   "cell_type": "code",
   "execution_count": 6,
   "metadata": {},
   "outputs": [
    {
     "name": "stdout",
     "output_type": "stream",
     "text": [
      "100\n",
      "30\n",
      "slow\n"
     ]
    }
   ],
   "source": [
    "soldier={'tag':'red','score':3}\n",
    "soldier['xpos']=100\n",
    "soldier['ypos']=30\n",
    "soldier['speed']='slow'\n",
    "print(soldier['xpos'])\n",
    "print(soldier['ypos'])\n",
    "print(soldier['speed'])"
   ]
  },
  {
   "cell_type": "code",
   "execution_count": 7,
   "metadata": {},
   "outputs": [
    {
     "name": "stdout",
     "output_type": "stream",
     "text": [
      "100\n"
     ]
    }
   ],
   "source": [
    "fruits={'apple':60,'banana':50,'pineapple':90}\n",
    "fruits['apple']=100\n",
    "print(fruits['apple'])"
   ]
  },
  {
   "cell_type": "code",
   "execution_count": 10,
   "metadata": {},
   "outputs": [
    {
     "name": "stdout",
     "output_type": "stream",
     "text": [
      "{'tag': 'red', 'score': 3, 'xpos': 100, 'ypos': 30, 'speed': 'slow'}\n",
      "101\n"
     ]
    }
   ],
   "source": [
    "soldier={'tag':'red','score':3}\n",
    "soldier['xpos']=100\n",
    "soldier['ypos']=30\n",
    "soldier['speed']='slow'\n",
    "print(soldier)\n",
    "if soldier['speed']=='slow':\n",
    "    xmove=1\n",
    "elif soldier['speed']=='medium':\n",
    "    xmove=3\n",
    "else:\n",
    "    xmove=5\n",
    "soldier['xpos']+=xmove\n",
    "print(soldier[\"xpos\"])"
   ]
  },
  {
   "cell_type": "code",
   "execution_count": 12,
   "metadata": {},
   "outputs": [
    {
     "name": "stdout",
     "output_type": "stream",
     "text": [
      "{'apple': 60, 'banana': 50, 'pineapple': 90}\n",
      "{'banana': 50, 'pineapple': 90}\n"
     ]
    }
   ],
   "source": [
    "fruits={'apple':60,'banana':50,'pineapple':90}\n",
    "print(fruits)\n",
    "del fruits['apple']\n",
    "print(fruits)"
   ]
  },
  {
   "cell_type": "code",
   "execution_count": 14,
   "metadata": {},
   "outputs": [
    {
     "name": "stdout",
     "output_type": "stream",
     "text": [
      "{'apple': 60, 'banana': 50, 'pineapple': 90}\n",
      "{}\n"
     ]
    }
   ],
   "source": [
    "fruits={'apple':60,'banana':50,'pineapple':90}\n",
    "print(fruits)\n",
    "fruits.clear()\n",
    "print(fruits)"
   ]
  },
  {
   "cell_type": "code",
   "execution_count": 15,
   "metadata": {},
   "outputs": [
    {
     "name": "stdout",
     "output_type": "stream",
     "text": [
      "{'apple': 60, 'banana': 50, 'pineapple': 90}\n"
     ]
    },
    {
     "ename": "NameError",
     "evalue": "name 'fruits' is not defined",
     "output_type": "error",
     "traceback": [
      "\u001b[1;31m---------------------------------------------------------------------------\u001b[0m",
      "\u001b[1;31mNameError\u001b[0m                                 Traceback (most recent call last)",
      "\u001b[1;32m<ipython-input-15-2cf05bf093be>\u001b[0m in \u001b[0;36m<module>\u001b[1;34m()\u001b[0m\n\u001b[0;32m      2\u001b[0m \u001b[0mprint\u001b[0m\u001b[1;33m(\u001b[0m\u001b[0mfruits\u001b[0m\u001b[1;33m)\u001b[0m\u001b[1;33m\u001b[0m\u001b[0m\n\u001b[0;32m      3\u001b[0m \u001b[1;32mdel\u001b[0m \u001b[0mfruits\u001b[0m\u001b[1;33m\u001b[0m\u001b[0m\n\u001b[1;32m----> 4\u001b[1;33m \u001b[0mprint\u001b[0m\u001b[1;33m(\u001b[0m\u001b[0mfruits\u001b[0m\u001b[1;33m)\u001b[0m\u001b[1;33m\u001b[0m\u001b[0m\n\u001b[0m",
      "\u001b[1;31mNameError\u001b[0m: name 'fruits' is not defined"
     ]
    }
   ],
   "source": [
    "fruits={'apple':60,'banana':50,'pineapple':90}\n",
    "print(fruits)\n",
    "del fruits\n",
    "print(fruits)"
   ]
  },
  {
   "cell_type": "code",
   "execution_count": 20,
   "metadata": {},
   "outputs": [
    {
     "name": "stdout",
     "output_type": "stream",
     "text": [
      "{'apple': 10, 'banana': 20}\n"
     ]
    }
   ],
   "source": [
    "fruits={}\n",
    "fruits['apple']=10\n",
    "fruits['banana']=20\n",
    "print(fruits)"
   ]
  },
  {
   "cell_type": "code",
   "execution_count": 27,
   "metadata": {},
   "outputs": [
    {
     "name": "stdout",
     "output_type": "stream",
     "text": [
      "721038455216\n",
      "721038455144\n",
      "{'apple': 60, 'banana': 50, 'pineapple': 90}\n",
      "{'apple': 60, 'banana': 50, 'pineapple': 10}\n"
     ]
    }
   ],
   "source": [
    "fruits={'apple':60,'banana':50,'pineapple':90}\n",
    "cfruits=fruits.copy()\n",
    "cfruits['pineapple']=10\n",
    "print(id(fruits))\n",
    "print(id(cfruits))\n",
    "print(fruits)\n",
    "print(cfruits)"
   ]
  },
  {
   "cell_type": "code",
   "execution_count": 29,
   "metadata": {},
   "outputs": [
    {
     "name": "stdout",
     "output_type": "stream",
     "text": [
      "4\n",
      "3\n",
      "0\n"
     ]
    }
   ],
   "source": [
    "fruits={'apple':60,'banana':50,'pineapple':90,'watermelon':80}\n",
    "drinks={'tea':10,'coffee':20,'wine':60}\n",
    "x={}\n",
    "print(len(fruits))\n",
    "print(len(drinks))\n",
    "print(len(x))"
   ]
  },
  {
   "cell_type": "code",
   "execution_count": 34,
   "metadata": {},
   "outputs": [
    {
     "name": "stdout",
     "output_type": "stream",
     "text": [
      "key:watermelon\n",
      "value:20\n",
      "{'apple': 60, 'banana': 50, 'pineapple': 90, 'watermelon': '20'}\n"
     ]
    }
   ],
   "source": [
    "fruits={'apple':60,'banana':50,'pineapple':90}\n",
    "key=input('key:')\n",
    "value=input('value:')\n",
    "if key in fruits:\n",
    "    print('already in dictionary')\n",
    "else:\n",
    "    fruits[key]=value\n",
    "    print(fruits)"
   ]
  },
  {
   "cell_type": "code",
   "execution_count": 35,
   "metadata": {},
   "outputs": [
    {
     "name": "stdout",
     "output_type": "stream",
     "text": [
      "Stephon Curry\n",
      "Golden State Warriors\n",
      "\n",
      "Kevin Durant\n",
      "Golden State Warriors\n",
      "\n",
      "Lebron James\n",
      "Cleveland Cavaliers\n",
      "\n",
      "James Harden\n",
      "Houston Rockets\n",
      "\n",
      "Paul Gasol\n",
      "San Antonio Spurs\n",
      "\n"
     ]
    }
   ],
   "source": [
    "players={'Stephon Curry':'Golden State Warriors',\n",
    "        'Kevin Durant':'Golden State Warriors',\n",
    "        'Lebron James':'Cleveland Cavaliers',\n",
    "        'James Harden':'Houston Rockets',\n",
    "        'Paul Gasol':'San Antonio Spurs'}\n",
    "for name,team in players.items():\n",
    "    print(name)\n",
    "    print(team)\n",
    "    print()"
   ]
  },
  {
   "cell_type": "code",
   "execution_count": 36,
   "metadata": {},
   "outputs": [
    {
     "name": "stdout",
     "output_type": "stream",
     "text": [
      "Stephon Curry\n",
      "\n",
      "Kevin Durant\n",
      "\n",
      "Lebron James\n",
      "\n",
      "James Harden\n",
      "\n",
      "Paul Gasol\n",
      "\n"
     ]
    }
   ],
   "source": [
    "players={'Stephon Curry':'Golden State Warriors',\n",
    "        'Kevin Durant':'Golden State Warriors',\n",
    "        'Lebron James':'Cleveland Cavaliers',\n",
    "        'James Harden':'Houston Rockets',\n",
    "        'Paul Gasol':'San Antonio Spurs'}\n",
    "for name in players.keys():\n",
    "    print(name)\n",
    "    print()"
   ]
  },
  {
   "cell_type": "code",
   "execution_count": 37,
   "metadata": {},
   "outputs": [
    {
     "name": "stdout",
     "output_type": "stream",
     "text": [
      "Stephon Curry\n",
      "\n",
      "Kevin Durant\n",
      "\n",
      "Lebron James\n",
      "\n",
      "James Harden\n",
      "\n",
      "Paul Gasol\n",
      "\n"
     ]
    }
   ],
   "source": [
    "players={'Stephon Curry':'Golden State Warriors',\n",
    "        'Kevin Durant':'Golden State Warriors',\n",
    "        'Lebron James':'Cleveland Cavaliers',\n",
    "        'James Harden':'Houston Rockets',\n",
    "        'Paul Gasol':'San Antonio Spurs'}\n",
    "for name in players:\n",
    "    print(name)\n",
    "    print()"
   ]
  },
  {
   "cell_type": "code",
   "execution_count": 38,
   "metadata": {},
   "outputs": [
    {
     "name": "stdout",
     "output_type": "stream",
     "text": [
      "James Harden\n",
      "\n",
      "Kevin Durant\n",
      "\n",
      "Lebron James\n",
      "\n",
      "Paul Gasol\n",
      "\n",
      "Stephon Curry\n",
      "\n"
     ]
    }
   ],
   "source": [
    "players={'Stephon Curry':'Golden State Warriors',\n",
    "        'Kevin Durant':'Golden State Warriors',\n",
    "        'Lebron James':'Cleveland Cavaliers',\n",
    "        'James Harden':'Houston Rockets',\n",
    "        'Paul Gasol':'San Antonio Spurs'}\n",
    "for name in sorted(players.keys()):\n",
    "    print(name)\n",
    "    print()"
   ]
  },
  {
   "cell_type": "code",
   "execution_count": 39,
   "metadata": {},
   "outputs": [
    {
     "name": "stdout",
     "output_type": "stream",
     "text": [
      "Golden State Warriors\n",
      "\n",
      "Golden State Warriors\n",
      "\n",
      "Cleveland Cavaliers\n",
      "\n",
      "Houston Rockets\n",
      "\n",
      "San Antonio Spurs\n",
      "\n"
     ]
    }
   ],
   "source": [
    "players={'Stephon Curry':'Golden State Warriors',\n",
    "        'Kevin Durant':'Golden State Warriors',\n",
    "        'Lebron James':'Cleveland Cavaliers',\n",
    "        'James Harden':'Houston Rockets',\n",
    "        'Paul Gasol':'San Antonio Spurs'}\n",
    "for team in players.values():\n",
    "    print(team)\n",
    "    print()"
   ]
  },
  {
   "cell_type": "code",
   "execution_count": 40,
   "metadata": {},
   "outputs": [
    {
     "name": "stdout",
     "output_type": "stream",
     "text": [
      "Golden State Warriors\n",
      "\n",
      "San Antonio Spurs\n",
      "\n",
      "Cleveland Cavaliers\n",
      "\n",
      "Houston Rockets\n",
      "\n"
     ]
    }
   ],
   "source": [
    "players={'Stephon Curry':'Golden State Warriors',\n",
    "        'Kevin Durant':'Golden State Warriors',\n",
    "        'Lebron James':'Cleveland Cavaliers',\n",
    "        'James Harden':'Houston Rockets',\n",
    "        'Paul Gasol':'San Antonio Spurs'}\n",
    "for team in set(players.values()):\n",
    "    print(team)\n",
    "    print()"
   ]
  },
  {
   "cell_type": "code",
   "execution_count": 47,
   "metadata": {},
   "outputs": [
    {
     "name": "stdout",
     "output_type": "stream",
     "text": [
      "{'tag': 'red', 'score': 3, 'speed': 'slow'}\n",
      "{'tag': 'blue', 'score': 5, 'speed': 'medium'}\n",
      "{'tag': 'green', 'score': 10, 'speed': 'fast'}\n"
     ]
    }
   ],
   "source": [
    "soldier0={'tag':'red','score':3,'speed':'slow'}\n",
    "soldier1={'tag':'blue','score':5,'speed':'medium'}\n",
    "soldier2={'tag':'green','score':10,'speed':'fast'}\n",
    "armys=[soldier0,soldier1,soldier2]\n",
    "for army in armys:\n",
    "    print(army)"
   ]
  },
  {
   "cell_type": "code",
   "execution_count": 48,
   "metadata": {},
   "outputs": [
    {
     "name": "stdout",
     "output_type": "stream",
     "text": [
      "{'tag': 'red', 'score': 3, 'speed': 'slow'}\n",
      "{'tag': 'red', 'score': 3, 'speed': 'slow'}\n",
      "{'tag': 'red', 'score': 3, 'speed': 'slow'}\n",
      "50\n"
     ]
    }
   ],
   "source": [
    "armys=[]\n",
    "for i in range(50):\n",
    "    soldier={'tag':'red','score':3,'speed':'slow'}\n",
    "    armys.append(soldier)\n",
    "for army in armys[:3]:\n",
    "    print(army)\n",
    "print(len(armys))"
   ]
  },
  {
   "cell_type": "code",
   "execution_count": 53,
   "metadata": {},
   "outputs": [
    {
     "name": "stdout",
     "output_type": "stream",
     "text": [
      "{'tag': 'red', 'score': 3, 'speed': 'slow'}\n",
      "{'tag': 'red', 'score': 3, 'speed': 'slow'}\n",
      "{'tag': 'red', 'score': 3, 'speed': 'slow'}\n",
      "============================================\n",
      "{'tag': 'red', 'score': 3, 'speed': 'slow'}\n",
      "{'tag': 'blue', 'score': 5, 'speed': 'fast'}\n",
      "{'tag': 'blue', 'score': 5, 'speed': 'fast'}\n",
      "{'tag': 'blue', 'score': 5, 'speed': 'fast'}\n",
      "{'tag': 'red', 'score': 3, 'speed': 'slow'}\n",
      "{'tag': 'red', 'score': 3, 'speed': 'slow'}\n"
     ]
    }
   ],
   "source": [
    "armys=[]\n",
    "for i in range(50):\n",
    "    soldier={'tag':'red','score':3,'speed':'slow'}\n",
    "    armys.append(soldier)\n",
    "for army in armys[:3]:\n",
    "    print(army)\n",
    "print('============================================')\n",
    "for army in armys[35:38]:\n",
    "    if army['tag']=='red':\n",
    "        army['tag']='blue'\n",
    "        army['score']=5\n",
    "        army['speed']='fast'\n",
    "for army in armys[34:40]:\n",
    "    print(army)"
   ]
  },
  {
   "cell_type": "code",
   "execution_count": 55,
   "metadata": {},
   "outputs": [
    {
     "name": "stdout",
     "output_type": "stream",
     "text": [
      "Curry\n",
      "basketball\n",
      "football\n",
      "\n",
      "Durant\n",
      "baseball\n",
      "\n",
      "James\n",
      "football\n",
      "baseball\n",
      "basketball\n",
      "\n"
     ]
    }
   ],
   "source": [
    "sports={'Curry':['basketball','football'],'Durant':['baseball'],'James':['football','baseball','basketball']}\n",
    "for name,sport in sports.items():\n",
    "    print(name)\n",
    "    for eachsport in sport:\n",
    "        print(eachsport)\n",
    "    print()"
   ]
  },
  {
   "cell_type": "code",
   "execution_count": 56,
   "metadata": {},
   "outputs": [
    {
     "name": "stdout",
     "output_type": "stream",
     "text": [
      "Curry\n",
      "Stephon\n",
      "Curry\n",
      "Taipei\n",
      "\n",
      "Harden\n",
      "James\n",
      "Harden\n",
      "Tainan\n",
      "\n"
     ]
    }
   ],
   "source": [
    "wechat_account={'Curry':{'firstname':'Stephon','lastname':'Curry','city':'Taipei'},'Harden':{'firstname':'James','lastname':'Harden','city':'Tainan'}}\n",
    "for account,info in wechat_account.items():\n",
    "    print(account)\n",
    "    print(info['firstname'])\n",
    "    print(info['lastname'])\n",
    "    print(info['city'])\n",
    "    print()"
   ]
  },
  {
   "cell_type": "code",
   "execution_count": 57,
   "metadata": {},
   "outputs": [
    {
     "name": "stdout",
     "output_type": "stream",
     "text": [
      "Curry\n",
      "Stephon\n",
      "Curry\n",
      "Taipei\n",
      "\n",
      "Harden\n",
      "James\n",
      "Harden\n",
      "Tainan\n",
      "\n"
     ]
    }
   ],
   "source": [
    "wechat_account={'Curry':{'firstname':'Stephon','lastname':'Curry','city':'Taipei'},'Harden':{'firstname':'James','lastname':'Harden','city':'Tainan'}}\n",
    "for account,info in wechat_account.items():\n",
    "    print(account)\n",
    "    for i in info.values():\n",
    "        print(i)\n",
    "    print()"
   ]
  },
  {
   "cell_type": "code",
   "execution_count": 59,
   "metadata": {},
   "outputs": [
    {
     "name": "stdout",
     "output_type": "stream",
     "text": [
      "name:jimmy\n",
      "location:Tainan\n",
      "repeat(y/n):y\n",
      "name:tom\n",
      "location:Taipei\n",
      "repeat(y/n):n\n",
      "{'jimmy': 'Tainan', 'tom': 'Taipei'}\n"
     ]
    }
   ],
   "source": [
    "survey={}\n",
    "deter=True\n",
    "while deter:\n",
    "    name=input('name:')\n",
    "    location=input('location:')\n",
    "    survey[name]=location\n",
    "    repeat=input('repeat(y/n):')\n",
    "    if repeat=='n':\n",
    "        deter=False\n",
    "print(survey)"
   ]
  },
  {
   "cell_type": "code",
   "execution_count": 64,
   "metadata": {},
   "outputs": [
    {
     "name": "stdout",
     "output_type": "stream",
     "text": [
      "2\n",
      "3\n",
      "3\n",
      "5\n"
     ]
    }
   ],
   "source": [
    "wechat_account={'Curry':{'firstname':'Stephon','lastname':'Curry','city':'Taipei'},'Harden':{'firstname':'James','lastname':'Harden','city':'Tainan'}}\n",
    "print(len(wechat_account))\n",
    "print(len(wechat_account['Curry']))\n",
    "print(len(wechat_account['Harden']))\n",
    "x={'apple':'apple'}\n",
    "print(len(x['apple']))"
   ]
  },
  {
   "cell_type": "code",
   "execution_count": 70,
   "metadata": {},
   "outputs": [
    {
     "name": "stdout",
     "output_type": "stream",
     "text": [
      "{'name': None, 'city': None}\n",
      "{'name': 'Taipei', 'city': 'Taipei'}\n"
     ]
    }
   ],
   "source": [
    "#########################\n",
    "x=['name','city']\n",
    "y=dict.fromkeys(x)\n",
    "print(y)\n",
    "y=dict.fromkeys(x,'Taipei')\n",
    "print(y)"
   ]
  },
  {
   "cell_type": "code",
   "execution_count": 74,
   "metadata": {},
   "outputs": [
    {
     "name": "stdout",
     "output_type": "stream",
     "text": [
      "60\n",
      "None\n",
      "20\n"
     ]
    }
   ],
   "source": [
    "fruits={'apple':60,'banana':50,'pineapple':90,'watermelon':80}\n",
    "x=fruits.get('apple')\n",
    "print(x)\n",
    "x=fruits.get('grape')\n",
    "print(x)\n",
    "x=fruits.get('grape',20)\n",
    "print(x)"
   ]
  },
  {
   "cell_type": "code",
   "execution_count": 78,
   "metadata": {},
   "outputs": [
    {
     "name": "stdout",
     "output_type": "stream",
     "text": [
      "60\n",
      "{'apple': 60, 'banana': 50, 'pineapple': 90, 'watermelon': 80}\n",
      "None\n",
      "{'apple': 60, 'banana': 50, 'pineapple': 90, 'watermelon': 80, 'grape': None}\n",
      "100\n",
      "{'apple': 60, 'banana': 50, 'pineapple': 90, 'watermelon': 80, 'grape': None, 'hi': 100}\n"
     ]
    }
   ],
   "source": [
    "fruits={'apple':60,'banana':50,'pineapple':90,'watermelon':80}\n",
    "x=fruits.setdefault('apple')\n",
    "print(x)\n",
    "print(fruits)\n",
    "x=fruits.setdefault('grape')\n",
    "print(x)\n",
    "print(fruits)\n",
    "x=fruits.setdefault('hi',100)\n",
    "print(x)\n",
    "print(fruits)"
   ]
  },
  {
   "cell_type": "code",
   "execution_count": 80,
   "metadata": {},
   "outputs": [
    {
     "name": "stdout",
     "output_type": "stream",
     "text": [
      "60\n",
      "{'banana': 50, 'pineapple': 90, 'watermelon': 80}\n",
      "does not exist\n",
      "{'banana': 50, 'pineapple': 90, 'watermelon': 80}\n"
     ]
    }
   ],
   "source": [
    "fruits={'apple':60,'banana':50,'pineapple':90,'watermelon':80}\n",
    "x=fruits.pop('apple')\n",
    "print(x)\n",
    "print(fruits)\n",
    "x=fruits.pop('grape','does not exist')\n",
    "print(x)\n",
    "print(fruits)"
   ]
  },
  {
   "cell_type": "code",
   "execution_count": null,
   "metadata": {},
   "outputs": [],
   "source": []
  }
 ],
 "metadata": {
  "kernelspec": {
   "display_name": "Python 3",
   "language": "python",
   "name": "python3"
  },
  "language_info": {
   "codemirror_mode": {
    "name": "ipython",
    "version": 3
   },
   "file_extension": ".py",
   "mimetype": "text/x-python",
   "name": "python",
   "nbconvert_exporter": "python",
   "pygments_lexer": "ipython3",
   "version": "3.6.5"
  }
 },
 "nbformat": 4,
 "nbformat_minor": 2
}
