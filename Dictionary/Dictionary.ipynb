{
 "cells": [
  {
   "cell_type": "code",
   "execution_count": 1,
   "metadata": {},
   "outputs": [],
   "source": [
    "a={}\n",
    "# a={\"Jimmy\":21,\"Billy\":22}\n",
    "# Key->Value\n",
    "# Values can be any type\n",
    "# Keys are commonly Strings or Numbers and can't be repeated"
   ]
  },
  {
   "cell_type": "code",
   "execution_count": 3,
   "metadata": {},
   "outputs": [],
   "source": [
    "a[\"Jimmy\"]=21\n",
    "a[\"Billy\"]=22"
   ]
  },
  {
   "cell_type": "code",
   "execution_count": 4,
   "metadata": {},
   "outputs": [
    {
     "name": "stdout",
     "output_type": "stream",
     "text": [
      "{'Jimmy': 21, 'Billy': 22}\n"
     ]
    }
   ],
   "source": [
    "print(a)"
   ]
  },
  {
   "cell_type": "code",
   "execution_count": 5,
   "metadata": {},
   "outputs": [
    {
     "name": "stdout",
     "output_type": "stream",
     "text": [
      "21\n"
     ]
    }
   ],
   "source": [
    "print(a[\"Jimmy\"])"
   ]
  },
  {
   "cell_type": "code",
   "execution_count": 6,
   "metadata": {},
   "outputs": [],
   "source": [
    "a[10]=100"
   ]
  },
  {
   "cell_type": "code",
   "execution_count": 7,
   "metadata": {},
   "outputs": [
    {
     "name": "stdout",
     "output_type": "stream",
     "text": [
      "100\n"
     ]
    }
   ],
   "source": [
    "print(a[10])"
   ]
  },
  {
   "cell_type": "code",
   "execution_count": 26,
   "metadata": {},
   "outputs": [
    {
     "name": "stdout",
     "output_type": "stream",
     "text": [
      "Jimmy\n",
      "21\n",
      "\n",
      "Billy\n",
      "22\n",
      "\n",
      "10\n",
      "100\n",
      "\n"
     ]
    }
   ],
   "source": [
    "for key,value in a.items():\n",
    "    print(key)\n",
    "    print(value)\n",
    "    print(\"\")"
   ]
  },
  {
   "cell_type": "code",
   "execution_count": 3,
   "metadata": {},
   "outputs": [
    {
     "name": "stdout",
     "output_type": "stream",
     "text": [
      "<class 'dict'>\n",
      "{'apple': 60, 'banana': 50, 'pineapple': 90}\n",
      "60\n"
     ]
    }
   ],
   "source": [
    "fruits={'apple':60,'banana':50,'pineapple':90}\n",
    "print(type(fruits))\n",
    "print(fruits)\n",
    "print(fruits['apple'])"
   ]
  },
  {
   "cell_type": "code",
   "execution_count": 4,
   "metadata": {},
   "outputs": [
    {
     "name": "stdout",
     "output_type": "stream",
     "text": [
      "30\n"
     ]
    }
   ],
   "source": [
    "fruits['watermelon']=30\n",
    "print(fruits['watermelon'])"
   ]
  },
  {
   "cell_type": "code",
   "execution_count": 6,
   "metadata": {},
   "outputs": [
    {
     "name": "stdout",
     "output_type": "stream",
     "text": [
      "100\n",
      "30\n",
      "slow\n"
     ]
    }
   ],
   "source": [
    "soldier={'tag':'red','score':3}\n",
    "soldier['xpos']=100\n",
    "soldier['ypos']=30\n",
    "soldier['speed']='slow'\n",
    "print(soldier['xpos'])\n",
    "print(soldier['ypos'])\n",
    "print(soldier['speed'])"
   ]
  },
  {
   "cell_type": "code",
   "execution_count": 7,
   "metadata": {},
   "outputs": [
    {
     "name": "stdout",
     "output_type": "stream",
     "text": [
      "100\n"
     ]
    }
   ],
   "source": [
    "fruits={'apple':60,'banana':50,'pineapple':90}\n",
    "fruits['apple']=100\n",
    "print(fruits['apple'])"
   ]
  },
  {
   "cell_type": "code",
   "execution_count": 10,
   "metadata": {},
   "outputs": [
    {
     "name": "stdout",
     "output_type": "stream",
     "text": [
      "{'tag': 'red', 'score': 3, 'xpos': 100, 'ypos': 30, 'speed': 'slow'}\n",
      "101\n"
     ]
    }
   ],
   "source": [
    "soldier={'tag':'red','score':3}\n",
    "soldier['xpos']=100\n",
    "soldier['ypos']=30\n",
    "soldier['speed']='slow'\n",
    "print(soldier)\n",
    "if soldier['speed']=='slow':\n",
    "    xmove=1\n",
    "elif soldier['speed']=='medium':\n",
    "    xmove=3\n",
    "else:\n",
    "    xmove=5\n",
    "soldier['xpos']+=xmove\n",
    "print(soldier[\"xpos\"])"
   ]
  },
  {
   "cell_type": "code",
   "execution_count": 12,
   "metadata": {},
   "outputs": [
    {
     "name": "stdout",
     "output_type": "stream",
     "text": [
      "{'apple': 60, 'banana': 50, 'pineapple': 90}\n",
      "{'banana': 50, 'pineapple': 90}\n"
     ]
    }
   ],
   "source": [
    "fruits={'apple':60,'banana':50,'pineapple':90}\n",
    "print(fruits)\n",
    "del fruits['apple']\n",
    "print(fruits)"
   ]
  },
  {
   "cell_type": "code",
   "execution_count": 14,
   "metadata": {},
   "outputs": [
    {
     "name": "stdout",
     "output_type": "stream",
     "text": [
      "{'apple': 60, 'banana': 50, 'pineapple': 90}\n",
      "{}\n"
     ]
    }
   ],
   "source": [
    "fruits={'apple':60,'banana':50,'pineapple':90}\n",
    "print(fruits)\n",
    "fruits.clear()\n",
    "print(fruits)"
   ]
  },
  {
   "cell_type": "code",
   "execution_count": 15,
   "metadata": {},
   "outputs": [
    {
     "name": "stdout",
     "output_type": "stream",
     "text": [
      "{'apple': 60, 'banana': 50, 'pineapple': 90}\n"
     ]
    },
    {
     "ename": "NameError",
     "evalue": "name 'fruits' is not defined",
     "output_type": "error",
     "traceback": [
      "\u001b[1;31m---------------------------------------------------------------------------\u001b[0m",
      "\u001b[1;31mNameError\u001b[0m                                 Traceback (most recent call last)",
      "\u001b[1;32m<ipython-input-15-2cf05bf093be>\u001b[0m in \u001b[0;36m<module>\u001b[1;34m()\u001b[0m\n\u001b[0;32m      2\u001b[0m \u001b[0mprint\u001b[0m\u001b[1;33m(\u001b[0m\u001b[0mfruits\u001b[0m\u001b[1;33m)\u001b[0m\u001b[1;33m\u001b[0m\u001b[0m\n\u001b[0;32m      3\u001b[0m \u001b[1;32mdel\u001b[0m \u001b[0mfruits\u001b[0m\u001b[1;33m\u001b[0m\u001b[0m\n\u001b[1;32m----> 4\u001b[1;33m \u001b[0mprint\u001b[0m\u001b[1;33m(\u001b[0m\u001b[0mfruits\u001b[0m\u001b[1;33m)\u001b[0m\u001b[1;33m\u001b[0m\u001b[0m\n\u001b[0m",
      "\u001b[1;31mNameError\u001b[0m: name 'fruits' is not defined"
     ]
    }
   ],
   "source": [
    "fruits={'apple':60,'banana':50,'pineapple':90}\n",
    "print(fruits)\n",
    "del fruits\n",
    "print(fruits)"
   ]
  },
  {
   "cell_type": "code",
   "execution_count": 20,
   "metadata": {},
   "outputs": [
    {
     "name": "stdout",
     "output_type": "stream",
     "text": [
      "{'apple': 10, 'banana': 20}\n"
     ]
    }
   ],
   "source": [
    "fruits={}\n",
    "fruits['apple']=10\n",
    "fruits['banana']=20\n",
    "print(fruits)"
   ]
  },
  {
   "cell_type": "code",
   "execution_count": 27,
   "metadata": {},
   "outputs": [
    {
     "name": "stdout",
     "output_type": "stream",
     "text": [
      "721038455216\n",
      "721038455144\n",
      "{'apple': 60, 'banana': 50, 'pineapple': 90}\n",
      "{'apple': 60, 'banana': 50, 'pineapple': 10}\n"
     ]
    }
   ],
   "source": [
    "fruits={'apple':60,'banana':50,'pineapple':90}\n",
    "cfruits=fruits.copy()\n",
    "cfruits['pineapple']=10\n",
    "print(id(fruits))\n",
    "print(id(cfruits))\n",
    "print(fruits)\n",
    "print(cfruits)"
   ]
  },
  {
   "cell_type": "code",
   "execution_count": 29,
   "metadata": {},
   "outputs": [
    {
     "name": "stdout",
     "output_type": "stream",
     "text": [
      "4\n",
      "3\n",
      "0\n"
     ]
    }
   ],
   "source": [
    "fruits={'apple':60,'banana':50,'pineapple':90,'watermelon':80}\n",
    "drinks={'tea':10,'coffee':20,'wine':60}\n",
    "x={}\n",
    "print(len(fruits))\n",
    "print(len(drinks))\n",
    "print(len(x))"
   ]
  },
  {
   "cell_type": "code",
   "execution_count": 34,
   "metadata": {},
   "outputs": [
    {
     "name": "stdout",
     "output_type": "stream",
     "text": [
      "key:watermelon\n",
      "value:20\n",
      "{'apple': 60, 'banana': 50, 'pineapple': 90, 'watermelon': '20'}\n"
     ]
    }
   ],
   "source": [
    "fruits={'apple':60,'banana':50,'pineapple':90}\n",
    "key=input('key:')\n",
    "value=input('value:')\n",
    "if key in fruits:\n",
    "    print('already in dictionary')\n",
    "else:\n",
    "    fruits[key]=value\n",
    "    print(fruits)"
   ]
  },
  {
   "cell_type": "code",
   "execution_count": 35,
   "metadata": {},
   "outputs": [
    {
     "name": "stdout",
     "output_type": "stream",
     "text": [
      "Stephon Curry\n",
      "Golden State Warriors\n",
      "\n",
      "Kevin Durant\n",
      "Golden State Warriors\n",
      "\n",
      "Lebron James\n",
      "Cleveland Cavaliers\n",
      "\n",
      "James Harden\n",
      "Houston Rockets\n",
      "\n",
      "Paul Gasol\n",
      "San Antonio Spurs\n",
      "\n"
     ]
    }
   ],
   "source": [
    "players={'Stephon Curry':'Golden State Warriors',\n",
    "        'Kevin Durant':'Golden State Warriors',\n",
    "        'Lebron James':'Cleveland Cavaliers',\n",
    "        'James Harden':'Houston Rockets',\n",
    "        'Paul Gasol':'San Antonio Spurs'}\n",
    "for name,team in players.items():\n",
    "    print(name)\n",
    "    print(team)\n",
    "    print()"
   ]
  },
  {
   "cell_type": "code",
   "execution_count": 36,
   "metadata": {},
   "outputs": [
    {
     "name": "stdout",
     "output_type": "stream",
     "text": [
      "Stephon Curry\n",
      "\n",
      "Kevin Durant\n",
      "\n",
      "Lebron James\n",
      "\n",
      "James Harden\n",
      "\n",
      "Paul Gasol\n",
      "\n"
     ]
    }
   ],
   "source": [
    "players={'Stephon Curry':'Golden State Warriors',\n",
    "        'Kevin Durant':'Golden State Warriors',\n",
    "        'Lebron James':'Cleveland Cavaliers',\n",
    "        'James Harden':'Houston Rockets',\n",
    "        'Paul Gasol':'San Antonio Spurs'}\n",
    "for name in players.keys():\n",
    "    print(name)\n",
    "    print()"
   ]
  },
  {
   "cell_type": "code",
   "execution_count": 37,
   "metadata": {},
   "outputs": [
    {
     "name": "stdout",
     "output_type": "stream",
     "text": [
      "Stephon Curry\n",
      "\n",
      "Kevin Durant\n",
      "\n",
      "Lebron James\n",
      "\n",
      "James Harden\n",
      "\n",
      "Paul Gasol\n",
      "\n"
     ]
    }
   ],
   "source": [
    "players={'Stephon Curry':'Golden State Warriors',\n",
    "        'Kevin Durant':'Golden State Warriors',\n",
    "        'Lebron James':'Cleveland Cavaliers',\n",
    "        'James Harden':'Houston Rockets',\n",
    "        'Paul Gasol':'San Antonio Spurs'}\n",
    "for name in players:\n",
    "    print(name)\n",
    "    print()"
   ]
  },
  {
   "cell_type": "code",
   "execution_count": 38,
   "metadata": {},
   "outputs": [
    {
     "name": "stdout",
     "output_type": "stream",
     "text": [
      "James Harden\n",
      "\n",
      "Kevin Durant\n",
      "\n",
      "Lebron James\n",
      "\n",
      "Paul Gasol\n",
      "\n",
      "Stephon Curry\n",
      "\n"
     ]
    }
   ],
   "source": [
    "players={'Stephon Curry':'Golden State Warriors',\n",
    "        'Kevin Durant':'Golden State Warriors',\n",
    "        'Lebron James':'Cleveland Cavaliers',\n",
    "        'James Harden':'Houston Rockets',\n",
    "        'Paul Gasol':'San Antonio Spurs'}\n",
    "for name in sorted(players.keys()):\n",
    "    print(name)\n",
    "    print()"
   ]
  },
  {
   "cell_type": "code",
   "execution_count": 39,
   "metadata": {},
   "outputs": [
    {
     "name": "stdout",
     "output_type": "stream",
     "text": [
      "Golden State Warriors\n",
      "\n",
      "Golden State Warriors\n",
      "\n",
      "Cleveland Cavaliers\n",
      "\n",
      "Houston Rockets\n",
      "\n",
      "San Antonio Spurs\n",
      "\n"
     ]
    }
   ],
   "source": [
    "players={'Stephon Curry':'Golden State Warriors',\n",
    "        'Kevin Durant':'Golden State Warriors',\n",
    "        'Lebron James':'Cleveland Cavaliers',\n",
    "        'James Harden':'Houston Rockets',\n",
    "        'Paul Gasol':'San Antonio Spurs'}\n",
    "for team in players.values():\n",
    "    print(team)\n",
    "    print()"
   ]
  },
  {
   "cell_type": "code",
   "execution_count": 40,
   "metadata": {},
   "outputs": [
    {
     "name": "stdout",
     "output_type": "stream",
     "text": [
      "Golden State Warriors\n",
      "\n",
      "San Antonio Spurs\n",
      "\n",
      "Cleveland Cavaliers\n",
      "\n",
      "Houston Rockets\n",
      "\n"
     ]
    }
   ],
   "source": [
    "players={'Stephon Curry':'Golden State Warriors',\n",
    "        'Kevin Durant':'Golden State Warriors',\n",
    "        'Lebron James':'Cleveland Cavaliers',\n",
    "        'James Harden':'Houston Rockets',\n",
    "        'Paul Gasol':'San Antonio Spurs'}\n",
    "for team in set(players.values()):\n",
    "    print(team)\n",
    "    print()"
   ]
  },
  {
   "cell_type": "code",
   "execution_count": 47,
   "metadata": {},
   "outputs": [
    {
     "name": "stdout",
     "output_type": "stream",
     "text": [
      "{'tag': 'red', 'score': 3, 'speed': 'slow'}\n",
      "{'tag': 'blue', 'score': 5, 'speed': 'medium'}\n",
      "{'tag': 'green', 'score': 10, 'speed': 'fast'}\n"
     ]
    }
   ],
   "source": [
    "soldier0={'tag':'red','score':3,'speed':'slow'}\n",
    "soldier1={'tag':'blue','score':5,'speed':'medium'}\n",
    "soldier2={'tag':'green','score':10,'speed':'fast'}\n",
    "armys=[soldier0,soldier1,soldier2]\n",
    "for army in armys:\n",
    "    print(army)"
   ]
  },
  {
   "cell_type": "code",
   "execution_count": null,
   "metadata": {},
   "outputs": [],
   "source": []
  }
 ],
 "metadata": {
  "kernelspec": {
   "display_name": "Python 3",
   "language": "python",
   "name": "python3"
  },
  "language_info": {
   "codemirror_mode": {
    "name": "ipython",
    "version": 3
   },
   "file_extension": ".py",
   "mimetype": "text/x-python",
   "name": "python",
   "nbconvert_exporter": "python",
   "pygments_lexer": "ipython3",
   "version": "3.6.5"
  }
 },
 "nbformat": 4,
 "nbformat_minor": 2
}
