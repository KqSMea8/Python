{
 "cells": [
  {
   "cell_type": "code",
   "execution_count": 1,
   "metadata": {},
   "outputs": [],
   "source": [
    "def bmi(height,weight):\n",
    "    bmi=weight/(height**2)\n",
    "    if bmi<18.5:\n",
    "        print(\"You are underweight\")\n",
    "    elif 18.5<=bmi<24:\n",
    "        print(\"You are healthy\")\n",
    "    else:\n",
    "        print(\"You are overweight\")"
   ]
  },
  {
   "cell_type": "code",
   "execution_count": 2,
   "metadata": {},
   "outputs": [
    {
     "name": "stdout",
     "output_type": "stream",
     "text": [
      "height(m):\n",
      "1.7\n"
     ]
    }
   ],
   "source": [
    "print(\"height(m):\")\n",
    "height=float(input())"
   ]
  },
  {
   "cell_type": "code",
   "execution_count": 3,
   "metadata": {},
   "outputs": [
    {
     "name": "stdout",
     "output_type": "stream",
     "text": [
      "weight(kg):\n",
      "58.9\n"
     ]
    }
   ],
   "source": [
    "print(\"weight(kg):\")\n",
    "weight=float(input())"
   ]
  },
  {
   "cell_type": "code",
   "execution_count": 4,
   "metadata": {},
   "outputs": [
    {
     "name": "stdout",
     "output_type": "stream",
     "text": [
      "You are healthy\n"
     ]
    }
   ],
   "source": [
    "bmi(height,weight)"
   ]
  },
  {
   "cell_type": "code",
   "execution_count": 5,
   "metadata": {},
   "outputs": [],
   "source": [
    "def bmireturn(height,weight):\n",
    "    bmi=weight/(height**2)\n",
    "    if bmi<18.5:\n",
    "        return \"You are underweight\"\n",
    "    elif 18.5<=bmi<24:\n",
    "        return \"You are healthy\"\n",
    "    else:\n",
    "        return \"You are overweight\""
   ]
  },
  {
   "cell_type": "code",
   "execution_count": 6,
   "metadata": {},
   "outputs": [
    {
     "name": "stdout",
     "output_type": "stream",
     "text": [
      "height(m):\n",
      "1.7\n"
     ]
    }
   ],
   "source": [
    "print(\"height(m):\")\n",
    "height=float(input())"
   ]
  },
  {
   "cell_type": "code",
   "execution_count": 7,
   "metadata": {},
   "outputs": [
    {
     "name": "stdout",
     "output_type": "stream",
     "text": [
      "weight(kg):\n",
      "200\n"
     ]
    }
   ],
   "source": [
    "print(\"weight(kg):\")\n",
    "weight=float(input())"
   ]
  },
  {
   "cell_type": "code",
   "execution_count": 8,
   "metadata": {},
   "outputs": [],
   "source": [
    "result=bmireturn(height,weight)"
   ]
  },
  {
   "cell_type": "code",
   "execution_count": 9,
   "metadata": {},
   "outputs": [
    {
     "name": "stdout",
     "output_type": "stream",
     "text": [
      "You are overweight\n"
     ]
    }
   ],
   "source": [
    "print(result)"
   ]
  },
  {
   "cell_type": "code",
   "execution_count": null,
   "metadata": {},
   "outputs": [],
   "source": []
  }
 ],
 "metadata": {
  "kernelspec": {
   "display_name": "Python 3",
   "language": "python",
   "name": "python3"
  },
  "language_info": {
   "codemirror_mode": {
    "name": "ipython",
    "version": 3
   },
   "file_extension": ".py",
   "mimetype": "text/x-python",
   "name": "python",
   "nbconvert_exporter": "python",
   "pygments_lexer": "ipython3",
   "version": "3.6.5"
  }
 },
 "nbformat": 4,
 "nbformat_minor": 2
}
