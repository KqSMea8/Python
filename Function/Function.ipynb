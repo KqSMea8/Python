{
 "cells": [
  {
   "cell_type": "code",
   "execution_count": 1,
   "metadata": {},
   "outputs": [
    {
     "name": "stdout",
     "output_type": "stream",
     "text": [
      "Out of function\n"
     ]
    }
   ],
   "source": [
    "#This is a practice\n",
    "def printfunction():\n",
    "    print(\"Hi!\")\n",
    "    print(\"I'm function\")\n",
    "print(\"Out of function\")"
   ]
  },
  {
   "cell_type": "code",
   "execution_count": 4,
   "metadata": {},
   "outputs": [
    {
     "name": "stdout",
     "output_type": "stream",
     "text": [
      "Hi!\n",
      "I'm function\n"
     ]
    }
   ],
   "source": [
    "printfunction()"
   ]
  },
  {
   "cell_type": "code",
   "execution_count": 5,
   "metadata": {},
   "outputs": [],
   "source": [
    "def doublefunction(x):\n",
    "    return 2*x"
   ]
  },
  {
   "cell_type": "code",
   "execution_count": 7,
   "metadata": {},
   "outputs": [
    {
     "name": "stdout",
     "output_type": "stream",
     "text": [
      "4\n"
     ]
    }
   ],
   "source": [
    "a=doublefunction(2)\n",
    "print(a)"
   ]
  },
  {
   "cell_type": "code",
   "execution_count": 8,
   "metadata": {},
   "outputs": [],
   "source": [
    "def plusfunction(x,y):\n",
    "    return x+y"
   ]
  },
  {
   "cell_type": "code",
   "execution_count": 11,
   "metadata": {},
   "outputs": [
    {
     "name": "stdout",
     "output_type": "stream",
     "text": [
      "5\n"
     ]
    }
   ],
   "source": [
    "b=plusfunction(2,3)\n",
    "print(b)"
   ]
  },
  {
   "cell_type": "code",
   "execution_count": 21,
   "metadata": {},
   "outputs": [],
   "source": [
    "def function(x):\n",
    "    print(x)\n",
    "    print(\"I'm in the function\")\n",
    "    return 3*x"
   ]
  },
  {
   "cell_type": "code",
   "execution_count": 14,
   "metadata": {},
   "outputs": [
    {
     "name": "stdout",
     "output_type": "stream",
     "text": [
      "3\n",
      "I'm in the function\n"
     ]
    }
   ],
   "source": [
    "c=function(3)"
   ]
  },
  {
   "cell_type": "code",
   "execution_count": 15,
   "metadata": {},
   "outputs": [
    {
     "name": "stdout",
     "output_type": "stream",
     "text": [
      "9\n"
     ]
    }
   ],
   "source": [
    "print(c)"
   ]
  },
  {
   "cell_type": "code",
   "execution_count": 24,
   "metadata": {},
   "outputs": [],
   "source": [
    "def function2(x):\n",
    "    print(x)\n",
    "    print(\"I'm in the function\")"
   ]
  },
  {
   "cell_type": "code",
   "execution_count": 25,
   "metadata": {},
   "outputs": [
    {
     "name": "stdout",
     "output_type": "stream",
     "text": [
      "3\n",
      "I'm in the function\n"
     ]
    }
   ],
   "source": [
    "function2(3)"
   ]
  },
  {
   "cell_type": "code",
   "execution_count": 14,
   "metadata": {},
   "outputs": [],
   "source": [
    "def greeting(name):\n",
    "    print('Hi!'+name+'. How are you?')"
   ]
  },
  {
   "cell_type": "code",
   "execution_count": 16,
   "metadata": {},
   "outputs": [
    {
     "name": "stdout",
     "output_type": "stream",
     "text": [
      "Hi!Jimmy. How are you?\n"
     ]
    }
   ],
   "source": [
    "greeting('Jimmy')"
   ]
  },
  {
   "cell_type": "code",
   "execution_count": 17,
   "metadata": {},
   "outputs": [],
   "source": [
    "def sub(x,y):\n",
    "    return x-y"
   ]
  },
  {
   "cell_type": "code",
   "execution_count": 18,
   "metadata": {},
   "outputs": [
    {
     "name": "stdout",
     "output_type": "stream",
     "text": [
      "a:5\n",
      "b:2\n",
      "3\n"
     ]
    }
   ],
   "source": [
    "a=int(input('a:'))\n",
    "b=int(input('b:'))\n",
    "c=sub(a,b)\n",
    "print(c)"
   ]
  },
  {
   "cell_type": "code",
   "execution_count": 2,
   "metadata": {},
   "outputs": [
    {
     "name": "stdout",
     "output_type": "stream",
     "text": [
      "basketball is my favorite sport\n",
      "banana is my favorite fruit\n"
     ]
    }
   ],
   "source": [
    "def interest(a,b):\n",
    "    print(a+' is my favorite sport')\n",
    "    print(b+' is my favorite fruit')\n",
    "interest(b='banana',a='basketball')"
   ]
  },
  {
   "cell_type": "code",
   "execution_count": 6,
   "metadata": {},
   "outputs": [
    {
     "name": "stdout",
     "output_type": "stream",
     "text": [
      "basketball is my favorite sport\n",
      "apple is my favorite fruit\n",
      "\n",
      "basketball is my favorite sport\n",
      "apple is my favorite fruit\n",
      "\n",
      "basketball is my favorite sport\n",
      "banana is my favorite fruit\n",
      "\n",
      "basketball is my favorite sport\n",
      "banana is my favorite fruit\n",
      "\n",
      "basketball is my favorite sport\n",
      "banana is my favorite fruit\n",
      "\n"
     ]
    }
   ],
   "source": [
    "def interest(a,b='apple'):#如有預設的,要放在最右邊\n",
    "    print(a+' is my favorite sport')\n",
    "    print(b+' is my favorite fruit')\n",
    "    print()\n",
    "interest('basketball')\n",
    "interest(a='basketball')\n",
    "interest('basketball','banana')\n",
    "interest(a='basketball',b='banana')\n",
    "interest(b='banana',a='basketball')"
   ]
  },
  {
   "cell_type": "code",
   "execution_count": 9,
   "metadata": {},
   "outputs": [
    {
     "name": "stdout",
     "output_type": "stream",
     "text": [
      "hi\n",
      "None\n",
      "<class 'NoneType'>\n"
     ]
    }
   ],
   "source": [
    "def test(a):\n",
    "    print(a)\n",
    "a=test('hi')#自動return none\n",
    "print(a)\n",
    "print(type(a))"
   ]
  },
  {
   "cell_type": "code",
   "execution_count": 8,
   "metadata": {},
   "outputs": [
    {
     "name": "stdout",
     "output_type": "stream",
     "text": [
      "hi\n",
      "None\n",
      "<class 'NoneType'>\n"
     ]
    }
   ],
   "source": [
    "def test(a):\n",
    "    print(a)\n",
    "    return\n",
    "a=test('hi')\n",
    "print(a)\n",
    "print(type(a))"
   ]
  },
  {
   "cell_type": "code",
   "execution_count": 10,
   "metadata": {},
   "outputs": [
    {
     "name": "stdout",
     "output_type": "stream",
     "text": [
      "a:6\n",
      "b:2\n",
      "a-b= 4\n"
     ]
    }
   ],
   "source": [
    "def subtract(a,b):\n",
    "    x=a-b\n",
    "    return x\n",
    "a=int(input('a:'))\n",
    "b=int(input('b:'))\n",
    "print('a-b=',subtract(a,b))"
   ]
  },
  {
   "cell_type": "code",
   "execution_count": 13,
   "metadata": {},
   "outputs": [
    {
     "name": "stdout",
     "output_type": "stream",
     "text": [
      "1:add\n",
      "2:sub\n",
      "1/2:1\n",
      "a:2\n",
      "b:5\n",
      "a+b= 7\n"
     ]
    }
   ],
   "source": [
    "def add(a,b):\n",
    "    return a+b\n",
    "def sub(a,b):\n",
    "    return a-b\n",
    "print('1:add')\n",
    "print('2:sub')\n",
    "x=int(input('1/2:'))\n",
    "a=int(input('a:'))\n",
    "b=int(input('b:'))\n",
    "if x==1:\n",
    "    print('a+b=',add(a,b))\n",
    "elif x==2:\n",
    "    print('a-b=',sub(a,b))\n",
    "else:\n",
    "    print('error')"
   ]
  },
  {
   "cell_type": "code",
   "execution_count": null,
   "metadata": {},
   "outputs": [],
   "source": []
  }
 ],
 "metadata": {
  "kernelspec": {
   "display_name": "Python 3",
   "language": "python",
   "name": "python3"
  },
  "language_info": {
   "codemirror_mode": {
    "name": "ipython",
    "version": 3
   },
   "file_extension": ".py",
   "mimetype": "text/x-python",
   "name": "python",
   "nbconvert_exporter": "python",
   "pygments_lexer": "ipython3",
   "version": "3.6.5"
  }
 },
 "nbformat": 4,
 "nbformat_minor": 2
}
