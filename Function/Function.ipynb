{
 "cells": [
  {
   "cell_type": "code",
   "execution_count": 1,
   "metadata": {},
   "outputs": [
    {
     "name": "stdout",
     "output_type": "stream",
     "text": [
      "Out of function\n"
     ]
    }
   ],
   "source": [
    "#This is a practice\n",
    "def printfunction():\n",
    "    print(\"Hi!\")\n",
    "    print(\"I'm function\")\n",
    "print(\"Out of function\")"
   ]
  },
  {
   "cell_type": "code",
   "execution_count": 4,
   "metadata": {},
   "outputs": [
    {
     "name": "stdout",
     "output_type": "stream",
     "text": [
      "Hi!\n",
      "I'm function\n"
     ]
    }
   ],
   "source": [
    "printfunction()"
   ]
  },
  {
   "cell_type": "code",
   "execution_count": 5,
   "metadata": {},
   "outputs": [],
   "source": [
    "def doublefunction(x):\n",
    "    return 2*x"
   ]
  },
  {
   "cell_type": "code",
   "execution_count": 7,
   "metadata": {},
   "outputs": [
    {
     "name": "stdout",
     "output_type": "stream",
     "text": [
      "4\n"
     ]
    }
   ],
   "source": [
    "a=doublefunction(2)\n",
    "print(a)"
   ]
  },
  {
   "cell_type": "code",
   "execution_count": 8,
   "metadata": {},
   "outputs": [],
   "source": [
    "def plusfunction(x,y):\n",
    "    return x+y"
   ]
  },
  {
   "cell_type": "code",
   "execution_count": 11,
   "metadata": {},
   "outputs": [
    {
     "name": "stdout",
     "output_type": "stream",
     "text": [
      "5\n"
     ]
    }
   ],
   "source": [
    "b=plusfunction(2,3)\n",
    "print(b)"
   ]
  },
  {
   "cell_type": "code",
   "execution_count": 21,
   "metadata": {},
   "outputs": [],
   "source": [
    "def function(x):\n",
    "    print(x)\n",
    "    print(\"I'm in the function\")\n",
    "    return 3*x"
   ]
  },
  {
   "cell_type": "code",
   "execution_count": 14,
   "metadata": {},
   "outputs": [
    {
     "name": "stdout",
     "output_type": "stream",
     "text": [
      "3\n",
      "I'm in the function\n"
     ]
    }
   ],
   "source": [
    "c=function(3)"
   ]
  },
  {
   "cell_type": "code",
   "execution_count": 15,
   "metadata": {},
   "outputs": [
    {
     "name": "stdout",
     "output_type": "stream",
     "text": [
      "9\n"
     ]
    }
   ],
   "source": [
    "print(c)"
   ]
  },
  {
   "cell_type": "code",
   "execution_count": 24,
   "metadata": {},
   "outputs": [],
   "source": [
    "def function2(x):\n",
    "    print(x)\n",
    "    print(\"I'm in the function\")"
   ]
  },
  {
   "cell_type": "code",
   "execution_count": 25,
   "metadata": {},
   "outputs": [
    {
     "name": "stdout",
     "output_type": "stream",
     "text": [
      "3\n",
      "I'm in the function\n"
     ]
    }
   ],
   "source": [
    "function2(3)"
   ]
  },
  {
   "cell_type": "code",
   "execution_count": 14,
   "metadata": {},
   "outputs": [],
   "source": [
    "def greeting(name):\n",
    "    print('Hi!'+name+'. How are you?')"
   ]
  },
  {
   "cell_type": "code",
   "execution_count": 16,
   "metadata": {},
   "outputs": [
    {
     "name": "stdout",
     "output_type": "stream",
     "text": [
      "Hi!Jimmy. How are you?\n"
     ]
    }
   ],
   "source": [
    "greeting('Jimmy')"
   ]
  },
  {
   "cell_type": "code",
   "execution_count": 17,
   "metadata": {},
   "outputs": [],
   "source": [
    "def sub(x,y):\n",
    "    return x-y"
   ]
  },
  {
   "cell_type": "code",
   "execution_count": 18,
   "metadata": {},
   "outputs": [
    {
     "name": "stdout",
     "output_type": "stream",
     "text": [
      "a:5\n",
      "b:2\n",
      "3\n"
     ]
    }
   ],
   "source": [
    "a=int(input('a:'))\n",
    "b=int(input('b:'))\n",
    "c=sub(a,b)\n",
    "print(c)"
   ]
  },
  {
   "cell_type": "code",
   "execution_count": 2,
   "metadata": {},
   "outputs": [
    {
     "name": "stdout",
     "output_type": "stream",
     "text": [
      "basketball is my favorite sport\n",
      "banana is my favorite fruit\n"
     ]
    }
   ],
   "source": [
    "def interest(a,b):\n",
    "    print(a+' is my favorite sport')\n",
    "    print(b+' is my favorite fruit')\n",
    "interest(b='banana',a='basketball')"
   ]
  },
  {
   "cell_type": "code",
   "execution_count": 6,
   "metadata": {},
   "outputs": [
    {
     "name": "stdout",
     "output_type": "stream",
     "text": [
      "basketball is my favorite sport\n",
      "apple is my favorite fruit\n",
      "\n",
      "basketball is my favorite sport\n",
      "apple is my favorite fruit\n",
      "\n",
      "basketball is my favorite sport\n",
      "banana is my favorite fruit\n",
      "\n",
      "basketball is my favorite sport\n",
      "banana is my favorite fruit\n",
      "\n",
      "basketball is my favorite sport\n",
      "banana is my favorite fruit\n",
      "\n"
     ]
    }
   ],
   "source": [
    "def interest(a,b='apple'):#如有預設的,要放在最右邊\n",
    "    print(a+' is my favorite sport')\n",
    "    print(b+' is my favorite fruit')\n",
    "    print()\n",
    "interest('basketball')\n",
    "interest(a='basketball')\n",
    "interest('basketball','banana')\n",
    "interest(a='basketball',b='banana')\n",
    "interest(b='banana',a='basketball')"
   ]
  },
  {
   "cell_type": "code",
   "execution_count": 9,
   "metadata": {},
   "outputs": [
    {
     "name": "stdout",
     "output_type": "stream",
     "text": [
      "hi\n",
      "None\n",
      "<class 'NoneType'>\n"
     ]
    }
   ],
   "source": [
    "def test(a):\n",
    "    print(a)\n",
    "a=test('hi')#自動return none\n",
    "print(a)\n",
    "print(type(a))"
   ]
  },
  {
   "cell_type": "code",
   "execution_count": 8,
   "metadata": {},
   "outputs": [
    {
     "name": "stdout",
     "output_type": "stream",
     "text": [
      "hi\n",
      "None\n",
      "<class 'NoneType'>\n"
     ]
    }
   ],
   "source": [
    "def test(a):\n",
    "    print(a)\n",
    "    return\n",
    "a=test('hi')\n",
    "print(a)\n",
    "print(type(a))"
   ]
  },
  {
   "cell_type": "code",
   "execution_count": 10,
   "metadata": {},
   "outputs": [
    {
     "name": "stdout",
     "output_type": "stream",
     "text": [
      "a:6\n",
      "b:2\n",
      "a-b= 4\n"
     ]
    }
   ],
   "source": [
    "def subtract(a,b):\n",
    "    x=a-b\n",
    "    return x\n",
    "a=int(input('a:'))\n",
    "b=int(input('b:'))\n",
    "print('a-b=',subtract(a,b))"
   ]
  },
  {
   "cell_type": "code",
   "execution_count": 13,
   "metadata": {},
   "outputs": [
    {
     "name": "stdout",
     "output_type": "stream",
     "text": [
      "1:add\n",
      "2:sub\n",
      "1/2:1\n",
      "a:2\n",
      "b:5\n",
      "a+b= 7\n"
     ]
    }
   ],
   "source": [
    "def add(a,b):\n",
    "    return a+b\n",
    "def sub(a,b):\n",
    "    return a-b\n",
    "print('1:add')\n",
    "print('2:sub')\n",
    "x=int(input('1/2:'))\n",
    "a=int(input('a:'))\n",
    "b=int(input('b:'))\n",
    "if x==1:\n",
    "    print('a+b=',add(a,b))\n",
    "elif x==2:\n",
    "    print('a-b=',sub(a,b))\n",
    "else:\n",
    "    print('error')"
   ]
  },
  {
   "cell_type": "code",
   "execution_count": 14,
   "metadata": {},
   "outputs": [
    {
     "name": "stdout",
     "output_type": "stream",
     "text": [
      "add 20\n",
      "sub 0\n",
      "mul 100\n",
      "div 1.0\n"
     ]
    }
   ],
   "source": [
    "def op(x,y):\n",
    "    a=x+y\n",
    "    b=x-y\n",
    "    c=x*y\n",
    "    d=x/y\n",
    "    return a,b,c,d\n",
    "a=10\n",
    "b=10\n",
    "add,sub,mul,div=op(a,b)\n",
    "print('add',add)\n",
    "print('sub',sub)\n",
    "print('mul',mul)\n",
    "print('div',div)"
   ]
  },
  {
   "cell_type": "code",
   "execution_count": 15,
   "metadata": {},
   "outputs": [
    {
     "name": "stdout",
     "output_type": "stream",
     "text": [
      "name:Jimmy\n",
      "gender(M/F):M\n",
      "Jimmy先生歡迎您\n"
     ]
    }
   ],
   "source": [
    "def greet(name,gender):\n",
    "    if gender=='M':\n",
    "        x=name+'先生歡迎您'\n",
    "    else:\n",
    "        x=name+'小姐歡迎您'\n",
    "    return x\n",
    "name=input('name:')\n",
    "gender=input('gender(M/F):')\n",
    "x=greet(name,gender)\n",
    "print(x)"
   ]
  },
  {
   "cell_type": "code",
   "execution_count": 16,
   "metadata": {},
   "outputs": [
    {
     "name": "stdout",
     "output_type": "stream",
     "text": [
      "{'id': 'a', 'name': 'Jimmy'}\n"
     ]
    }
   ],
   "source": [
    "def dic(id,name):\n",
    "    x={'id':id,'name':name}\n",
    "    return x\n",
    "x=dic('a','Jimmy')\n",
    "print(x)"
   ]
  },
  {
   "cell_type": "code",
   "execution_count": 19,
   "metadata": {},
   "outputs": [
    {
     "name": "stdout",
     "output_type": "stream",
     "text": [
      "{'id': 'a', 'name': 'Jimmy'}\n",
      "{'id': 'b', 'name': 'Tom', 'tel': '123456789'}\n"
     ]
    }
   ],
   "source": [
    "def dic(id,name,tel=''):\n",
    "    x={'id':id,'name':name}\n",
    "    if tel:\n",
    "        x['tel']=tel\n",
    "    return x\n",
    "x=dic('a','Jimmy')\n",
    "y=dic('b','Tom','123456789')\n",
    "print(x)\n",
    "print(y)"
   ]
  },
  {
   "cell_type": "code",
   "execution_count": 1,
   "metadata": {},
   "outputs": [
    {
     "name": "stdout",
     "output_type": "stream",
     "text": [
      "id:a\n",
      "name:Jimmy\n",
      "tel:\n",
      "{'id': 'a', 'name': 'Jimmy'}\n",
      "Y/N:Y\n",
      "id:b\n",
      "name:Tom\n",
      "tel:123456789\n",
      "{'id': 'b', 'name': 'Tom', 'tel': '123456789'}\n",
      "Y/N:N\n"
     ]
    }
   ],
   "source": [
    "def dic(id,name,tel=''):\n",
    "    x={'id':id,'name':name}\n",
    "    if tel:\n",
    "        x['tel']=tel\n",
    "    return x\n",
    "while True:\n",
    "    id=input('id:')\n",
    "    name=input('name:')\n",
    "    tel=input('tel:')\n",
    "    x=dic(id,name,tel)\n",
    "    print(x)\n",
    "    repeat=input('Y/N:')\n",
    "    if repeat=='N':\n",
    "        break"
   ]
  },
  {
   "cell_type": "code",
   "execution_count": 1,
   "metadata": {},
   "outputs": [
    {
     "name": "stdout",
     "output_type": "stream",
     "text": [
      "Jimmy loves banana\n",
      "Amy loves banana\n",
      "Ruby loves banana\n"
     ]
    }
   ],
   "source": [
    "def abc(x):\n",
    "    str1='banana'\n",
    "    for i in x:\n",
    "        str2=i+' loves '+str1\n",
    "        print(str2)\n",
    "x=['Jimmy','Amy','Ruby']\n",
    "abc(x)"
   ]
  },
  {
   "cell_type": "code",
   "execution_count": 4,
   "metadata": {},
   "outputs": [
    {
     "name": "stdout",
     "output_type": "stream",
     "text": [
      "===下列是尚未服務的餐點===\n",
      "大麥克\n",
      "勁辣雞腿堡\n",
      "麥克雞塊\n",
      "===下列是已經服務的餐點===\n",
      "***沒有餐點*** \n",
      "\n",
      "廚房處理顧客所點的餐點\n",
      "菜單: 麥克雞塊\n",
      "菜單: 勁辣雞腿堡\n",
      "菜單: 大麥克\n",
      "\n",
      " ===廚房處理結束=== \n",
      "\n",
      "===下列是尚未服務的餐點===\n",
      "***沒有餐點*** \n",
      "\n",
      "===下列是已經服務的餐點===\n",
      "麥克雞塊\n",
      "勁辣雞腿堡\n",
      "大麥克\n"
     ]
    }
   ],
   "source": [
    "def kitchen(unserved,served): #函數內和函數外的list是指向同個記憶體位址\n",
    "    print('廚房處理顧客所點的餐點')\n",
    "    while unserved:\n",
    "        current_meal=unserved.pop()\n",
    "        print('菜單:',current_meal)\n",
    "        served.append(current_meal)\n",
    "\n",
    "def show_unserved_meal(unserved):\n",
    "    print('===下列是尚未服務的餐點===')\n",
    "    if not unserved:\n",
    "        print('***沒有餐點***','\\n')\n",
    "    for unserved_meal in unserved:\n",
    "        print(unserved_meal)\n",
    "\n",
    "def show_served_meal(served):\n",
    "    print('===下列是已經服務的餐點===')\n",
    "    if not served:\n",
    "        print('***沒有餐點***','\\n')\n",
    "    for served_meal in served:\n",
    "        print(served_meal)    \n",
    "\n",
    "unserved=['大麥克','勁辣雞腿堡','麥克雞塊']\n",
    "served=[]\n",
    "show_unserved_meal(unserved)\n",
    "show_served_meal(served)\n",
    "kitchen(unserved,served)\n",
    "print('\\n','===廚房處理結束===','\\n')\n",
    "show_unserved_meal(unserved)\n",
    "show_served_meal(served)"
   ]
  },
  {
   "cell_type": "code",
   "execution_count": 1,
   "metadata": {},
   "outputs": [
    {
     "name": "stdout",
     "output_type": "stream",
     "text": [
      "===下列是所點的的餐點===\n",
      "大麥克\n",
      "勁辣雞腿堡\n",
      "麥克雞塊\n",
      "===下列是已經服務的餐點===\n",
      "***沒有餐點*** \n",
      "\n",
      "廚房處理顧客所點的餐點\n",
      "菜單: 麥克雞塊\n",
      "菜單: 勁辣雞腿堡\n",
      "菜單: 大麥克\n",
      "\n",
      " ===廚房處理結束=== \n",
      "\n",
      "===下列是所點的的餐點===\n",
      "大麥克\n",
      "勁辣雞腿堡\n",
      "麥克雞塊\n",
      "===下列是已經服務的餐點===\n",
      "麥克雞塊\n",
      "勁辣雞腿堡\n",
      "大麥克\n"
     ]
    }
   ],
   "source": [
    "def kitchen(unserved,served): #利用[:]讓函數外的list不變\n",
    "    print('廚房處理顧客所點的餐點')\n",
    "    while unserved:\n",
    "        current_meal=unserved.pop()\n",
    "        print('菜單:',current_meal)\n",
    "        served.append(current_meal)\n",
    "\n",
    "def show_order_meal(unserved):\n",
    "    print('===下列是所點的的餐點===')\n",
    "    if not unserved:\n",
    "        print('***沒有餐點***','\\n')\n",
    "    for unserved_meal in unserved:\n",
    "        print(unserved_meal)\n",
    "\n",
    "def show_served_meal(served):\n",
    "    print('===下列是已經服務的餐點===')\n",
    "    if not served:\n",
    "        print('***沒有餐點***','\\n')\n",
    "    for served_meal in served:\n",
    "        print(served_meal)    \n",
    "\n",
    "order_list=['大麥克','勁辣雞腿堡','麥克雞塊']\n",
    "served_list=[]\n",
    "show_order_meal(order_list)\n",
    "show_served_meal(served_list)\n",
    "kitchen(order_list[:],served_list)\n",
    "print('\\n','===廚房處理結束===','\\n')\n",
    "show_order_meal(order_list)\n",
    "show_served_meal(served_list)"
   ]
  },
  {
   "cell_type": "code",
   "execution_count": 2,
   "metadata": {},
   "outputs": [
    {
     "name": "stdout",
     "output_type": "stream",
     "text": [
      "False\n"
     ]
    }
   ],
   "source": [
    "a=[]\n",
    "print(bool(a))"
   ]
  },
  {
   "cell_type": "code",
   "execution_count": 5,
   "metadata": {},
   "outputs": [
    {
     "name": "stdout",
     "output_type": "stream",
     "text": [
      "草莓\n",
      "草莓\n",
      "藍莓\n",
      "巧克力\n"
     ]
    }
   ],
   "source": [
    "def make_icecream(*a): #未知數量的變數\n",
    "    for w in a:\n",
    "        print(w)\n",
    "make_icecream('草莓')\n",
    "make_icecream('草莓','藍莓','巧克力')"
   ]
  },
  {
   "cell_type": "code",
   "execution_count": 7,
   "metadata": {},
   "outputs": [
    {
     "name": "stdout",
     "output_type": "stream",
     "text": [
      "這是香草冰淇淋\n",
      "草莓\n",
      "\n",
      "這是芒果冰淇淋\n",
      "草莓\n",
      "藍莓\n",
      "巧克力\n",
      "\n"
     ]
    }
   ],
   "source": [
    "def make_icecream(type,*a): #未知數量的變數\n",
    "    print('這是'+type+'冰淇淋')\n",
    "    for w in a:\n",
    "        print(w)\n",
    "    print()\n",
    "make_icecream('香草','草莓')\n",
    "make_icecream('芒果','草莓','藍莓','巧克力')"
   ]
  },
  {
   "cell_type": "code",
   "execution_count": 13,
   "metadata": {},
   "outputs": [
    {
     "name": "stdout",
     "output_type": "stream",
     "text": [
      "{'Name': 'James', 'Age': '32', 'City': 'Cleveland', 'State': 'Ohio'}\n"
     ]
    }
   ],
   "source": [
    "def build(name,age,**player): # **player是可以接受任意數量的關鍵字參數\n",
    "    info={}\n",
    "    info['Name']=name\n",
    "    info['Age']=age\n",
    "    for key,value in player.items():\n",
    "        info[key]=value\n",
    "    return info\n",
    "player_dict=build(\"James\",'32',City='Cleveland',State='Ohio')\n",
    "print(player_dict)"
   ]
  },
  {
   "cell_type": "code",
   "execution_count": 15,
   "metadata": {},
   "outputs": [
    {
     "name": "stdout",
     "output_type": "stream",
     "text": [
      "6\n",
      "120\n"
     ]
    }
   ],
   "source": [
    "def factorial(n):\n",
    "    if n==1:\n",
    "        return 1\n",
    "    else:\n",
    "        return n*factorial(n-1)\n",
    "print(factorial(3))\n",
    "print(factorial(5))"
   ]
  },
  {
   "cell_type": "code",
   "execution_count": null,
   "metadata": {},
   "outputs": [],
   "source": []
  }
 ],
 "metadata": {
  "kernelspec": {
   "display_name": "Python 3",
   "language": "python",
   "name": "python3"
  },
  "language_info": {
   "codemirror_mode": {
    "name": "ipython",
    "version": 3
   },
   "file_extension": ".py",
   "mimetype": "text/x-python",
   "name": "python",
   "nbconvert_exporter": "python",
   "pygments_lexer": "ipython3",
   "version": "3.6.5"
  }
 },
 "nbformat": 4,
 "nbformat_minor": 2
}
