{
 "cells": [
  {
   "cell_type": "code",
   "execution_count": 3,
   "metadata": {},
   "outputs": [
    {
     "name": "stdout",
     "output_type": "stream",
     "text": [
      "a less than b\n",
      "finish compare\n"
     ]
    }
   ],
   "source": [
    "a=1\n",
    "b=2\n",
    "if a<b:\n",
    "    print(\"a is less than b\")\n",
    "print(\"finish compare\")"
   ]
  },
  {
   "cell_type": "code",
   "execution_count": 5,
   "metadata": {},
   "outputs": [
    {
     "name": "stdout",
     "output_type": "stream",
     "text": [
      "c is not less than d\n",
      "finish compare\n"
     ]
    }
   ],
   "source": [
    "c=2\n",
    "d=1\n",
    "if c<d:\n",
    "    print(\"c is less than d\")\n",
    "else:\n",
    "    print(\"c is not less than d\")\n",
    "print(\"finish compare\")"
   ]
  },
  {
   "cell_type": "code",
   "execution_count": 6,
   "metadata": {},
   "outputs": [
    {
     "name": "stdout",
     "output_type": "stream",
     "text": [
      "e is less than f\n",
      "finish compare\n"
     ]
    }
   ],
   "source": [
    "e=1\n",
    "f=2\n",
    "if e<f:\n",
    "    print(\"e is less than f\")\n",
    "elif e==f:\n",
    "    print(\"e is equal to f\")\n",
    "else:\n",
    "    print(\"e is greater than f\")\n",
    "print(\"finish compare\")"
   ]
  },
  {
   "cell_type": "code",
   "execution_count": 7,
   "metadata": {},
   "outputs": [
    {
     "name": "stdout",
     "output_type": "stream",
     "text": [
      "e is greater than f\n",
      "finish compare\n"
     ]
    }
   ],
   "source": [
    "e=5\n",
    "if e<f:\n",
    "    print(\"e is less than f\")\n",
    "elif e==f:\n",
    "    print(\"e is equal to f\")\n",
    "else:\n",
    "    print(\"e is greater than f\")\n",
    "print(\"finish compare\")"
   ]
  },
  {
   "cell_type": "code",
   "execution_count": 14,
   "metadata": {},
   "outputs": [
    {
     "name": "stdout",
     "output_type": "stream",
     "text": [
      "e is equal to f\n",
      "finish compare\n"
     ]
    }
   ],
   "source": [
    "e=2\n",
    "if e<f:\n",
    "    print(\"e is less than f\")\n",
    "elif e==f:\n",
    "    print(\"e is equal to f\")\n",
    "else:\n",
    "    print(\"e is greater than f\")\n",
    "print(\"finish compare\")"
   ]
  },
  {
   "cell_type": "code",
   "execution_count": 10,
   "metadata": {},
   "outputs": [
    {
     "name": "stdout",
     "output_type": "stream",
     "text": [
      "e is greater than f by more than 10\n",
      "finish compare\n"
     ]
    }
   ],
   "source": [
    "e=20\n",
    "if e<f:\n",
    "    print(\"e is less than f\")\n",
    "elif e==f:\n",
    "    print(\"e is equal to f\")\n",
    "elif e>f+10:\n",
    "    print(\"e is greater than f by more than 10\")\n",
    "else:\n",
    "    print(\"e is greater than f\")\n",
    "print(\"finish compare\")"
   ]
  },
  {
   "cell_type": "code",
   "execution_count": 11,
   "metadata": {},
   "outputs": [
    {
     "name": "stdout",
     "output_type": "stream",
     "text": [
      "e is equal to f\n",
      "finish compare\n"
     ]
    }
   ],
   "source": [
    "e=2\n",
    "if e<f:\n",
    "    print(\"e is less than f\")\n",
    "else:\n",
    "    if e==f:\n",
    "        print(\"e is equal to f\")\n",
    "    else:\n",
    "        print(\"e is greater than f\")\n",
    "print(\"finish compare\")"
   ]
  },
  {
   "cell_type": "code",
   "execution_count": 15,
   "metadata": {},
   "outputs": [
    {
     "name": "stdout",
     "output_type": "stream",
     "text": [
      "e is equal to f\n",
      "e is equal to f\n",
      "e is equal to f\n",
      "e is equal to f\n",
      "finish compare\n"
     ]
    }
   ],
   "source": [
    "if e<f:\n",
    "    print(\"e is less than f\")\n",
    "elif e==f:\n",
    "    print(\"e is equal to f\")\n",
    "    print(\"e is equal to f\")\n",
    "    print(\"e is equal to f\")\n",
    "    print(\"e is equal to f\")\n",
    "else:\n",
    "    print(\"e is greater than f\")\n",
    "print(\"finish compare\")"
   ]
  },
  {
   "cell_type": "code",
   "execution_count": null,
   "metadata": {},
   "outputs": [],
   "source": []
  }
 ],
 "metadata": {
  "kernelspec": {
   "display_name": "Python 3",
   "language": "python",
   "name": "python3"
  },
  "language_info": {
   "codemirror_mode": {
    "name": "ipython",
    "version": 3
   },
   "file_extension": ".py",
   "mimetype": "text/x-python",
   "name": "python",
   "nbconvert_exporter": "python",
   "pygments_lexer": "ipython3",
   "version": "3.6.5"
  }
 },
 "nbformat": 4,
 "nbformat_minor": 2
}
