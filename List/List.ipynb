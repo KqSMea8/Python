{
 "cells": [
  {
   "cell_type": "code",
   "execution_count": 3,
   "metadata": {},
   "outputs": [],
   "source": [
    "a=[1,3,-1]"
   ]
  },
  {
   "cell_type": "code",
   "execution_count": 4,
   "metadata": {},
   "outputs": [],
   "source": [
    "a.append(1)"
   ]
  },
  {
   "cell_type": "code",
   "execution_count": 5,
   "metadata": {},
   "outputs": [
    {
     "name": "stdout",
     "output_type": "stream",
     "text": [
      "[1, 3, -1, 1]\n",
      "<class 'list'>\n"
     ]
    }
   ],
   "source": [
    "print(a)\n",
    "print(type(a))"
   ]
  },
  {
   "cell_type": "code",
   "execution_count": 4,
   "metadata": {},
   "outputs": [
    {
     "name": "stdout",
     "output_type": "stream",
     "text": [
      "[1, 3, -1, 1, 'hi']\n"
     ]
    }
   ],
   "source": [
    "a.append(\"hi\")\n",
    "print(a)"
   ]
  },
  {
   "cell_type": "code",
   "execution_count": 5,
   "metadata": {},
   "outputs": [
    {
     "name": "stdout",
     "output_type": "stream",
     "text": [
      "[1, 3, -1, 1, 'hi', 'hello']\n"
     ]
    }
   ],
   "source": [
    "a.append('hello')\n",
    "print(a)"
   ]
  },
  {
   "cell_type": "code",
   "execution_count": 6,
   "metadata": {},
   "outputs": [
    {
     "name": "stdout",
     "output_type": "stream",
     "text": [
      "[1, 3, -1, 1, 'hi', 'hello', [1, 2]]\n"
     ]
    }
   ],
   "source": [
    "a.append([1,2])\n",
    "print(a)"
   ]
  },
  {
   "cell_type": "code",
   "execution_count": 7,
   "metadata": {},
   "outputs": [
    {
     "name": "stdout",
     "output_type": "stream",
     "text": [
      "[1, 3, -1, 1, 'hi', 'hello']\n"
     ]
    }
   ],
   "source": [
    "#delete last item\n",
    "a.pop()\n",
    "print(a)"
   ]
  },
  {
   "cell_type": "code",
   "execution_count": 8,
   "metadata": {},
   "outputs": [
    {
     "name": "stdout",
     "output_type": "stream",
     "text": [
      "[1, 3, 1, 'hi', 'hello']\n"
     ]
    }
   ],
   "source": [
    "a.pop(2)\n",
    "print(a)"
   ]
  },
  {
   "cell_type": "code",
   "execution_count": 9,
   "metadata": {},
   "outputs": [
    {
     "name": "stdout",
     "output_type": "stream",
     "text": [
      "1\n"
     ]
    }
   ],
   "source": [
    "print(a[0])"
   ]
  },
  {
   "cell_type": "code",
   "execution_count": 10,
   "metadata": {},
   "outputs": [
    {
     "name": "stdout",
     "output_type": "stream",
     "text": [
      "1\n"
     ]
    }
   ],
   "source": [
    "print(a[2])"
   ]
  },
  {
   "cell_type": "code",
   "execution_count": 11,
   "metadata": {},
   "outputs": [
    {
     "name": "stdout",
     "output_type": "stream",
     "text": [
      "[250, 3, 1, 'hi', 'hello']\n"
     ]
    }
   ],
   "source": [
    "a[0]=250\n",
    "print(a)"
   ]
  },
  {
   "cell_type": "code",
   "execution_count": 44,
   "metadata": {},
   "outputs": [],
   "source": [
    "b=[\"apple\",\"banana\",\"computer\"]"
   ]
  },
  {
   "cell_type": "code",
   "execution_count": 45,
   "metadata": {},
   "outputs": [],
   "source": [
    "temp=b[0]\n",
    "b[0]=b[2]\n",
    "b[2]=temp"
   ]
  },
  {
   "cell_type": "code",
   "execution_count": 46,
   "metadata": {},
   "outputs": [
    {
     "name": "stdout",
     "output_type": "stream",
     "text": [
      "['computer', 'banana', 'apple']\n"
     ]
    }
   ],
   "source": [
    "print(b)"
   ]
  },
  {
   "cell_type": "code",
   "execution_count": 47,
   "metadata": {},
   "outputs": [
    {
     "name": "stdout",
     "output_type": "stream",
     "text": [
      "['apple', 'banana', 'computer']\n"
     ]
    }
   ],
   "source": [
    "b[0],b[2]=b[2],b[0]\n",
    "print(b)"
   ]
  },
  {
   "cell_type": "code",
   "execution_count": 15,
   "metadata": {},
   "outputs": [
    {
     "name": "stdout",
     "output_type": "stream",
     "text": [
      "各場得分: 23 19 22 31 18\n"
     ]
    }
   ],
   "source": [
    "james=[23,19,22,31,18]\n",
    "game1,game2,game3,game4,game5=james\n",
    "print(\"各場得分:\",game1,  game2,  game3,  game4,  game5)"
   ]
  },
  {
   "cell_type": "code",
   "execution_count": 19,
   "metadata": {},
   "outputs": [
    {
     "name": "stdout",
     "output_type": "stream",
     "text": [
      "[23, 19, 22, 31, 18]\n"
     ]
    }
   ],
   "source": [
    "print(james[0:7])"
   ]
  },
  {
   "cell_type": "code",
   "execution_count": 20,
   "metadata": {},
   "outputs": [
    {
     "name": "stdout",
     "output_type": "stream",
     "text": [
      "[19, 22]\n"
     ]
    }
   ],
   "source": [
    "print(james[1:3])"
   ]
  },
  {
   "cell_type": "code",
   "execution_count": 21,
   "metadata": {},
   "outputs": [
    {
     "name": "stdout",
     "output_type": "stream",
     "text": [
      "[23, 19]\n"
     ]
    }
   ],
   "source": [
    "print(james[:2])"
   ]
  },
  {
   "cell_type": "code",
   "execution_count": 22,
   "metadata": {},
   "outputs": [
    {
     "name": "stdout",
     "output_type": "stream",
     "text": [
      "[22, 31, 18]\n"
     ]
    }
   ],
   "source": [
    "print(james[2:])"
   ]
  },
  {
   "cell_type": "code",
   "execution_count": 23,
   "metadata": {},
   "outputs": [
    {
     "name": "stdout",
     "output_type": "stream",
     "text": [
      "[31, 18]\n"
     ]
    }
   ],
   "source": [
    "print(james[-2:])"
   ]
  },
  {
   "cell_type": "code",
   "execution_count": 24,
   "metadata": {},
   "outputs": [
    {
     "name": "stdout",
     "output_type": "stream",
     "text": [
      "[23, 19, 22, 31, 18]\n"
     ]
    }
   ],
   "source": [
    "print(james[:])"
   ]
  },
  {
   "cell_type": "code",
   "execution_count": 25,
   "metadata": {},
   "outputs": [
    {
     "name": "stdout",
     "output_type": "stream",
     "text": [
      "[23, 22, 18]\n"
     ]
    }
   ],
   "source": [
    "print(james[0:5:2])"
   ]
  },
  {
   "cell_type": "code",
   "execution_count": 27,
   "metadata": {},
   "outputs": [
    {
     "name": "stdout",
     "output_type": "stream",
     "text": [
      "18\n"
     ]
    }
   ],
   "source": [
    "print(james[-1])"
   ]
  },
  {
   "cell_type": "code",
   "execution_count": 28,
   "metadata": {},
   "outputs": [
    {
     "name": "stdout",
     "output_type": "stream",
     "text": [
      "31\n"
     ]
    }
   ],
   "source": [
    "print(james[-2])"
   ]
  },
  {
   "cell_type": "code",
   "execution_count": 29,
   "metadata": {},
   "outputs": [
    {
     "name": "stdout",
     "output_type": "stream",
     "text": [
      "31\n"
     ]
    }
   ],
   "source": [
    "print(max(james))"
   ]
  },
  {
   "cell_type": "code",
   "execution_count": 30,
   "metadata": {},
   "outputs": [
    {
     "name": "stdout",
     "output_type": "stream",
     "text": [
      "18\n"
     ]
    }
   ],
   "source": [
    "print(min(james))"
   ]
  },
  {
   "cell_type": "code",
   "execution_count": 31,
   "metadata": {},
   "outputs": [
    {
     "name": "stdout",
     "output_type": "stream",
     "text": [
      "113\n"
     ]
    }
   ],
   "source": [
    "print(sum(james))"
   ]
  },
  {
   "cell_type": "code",
   "execution_count": 32,
   "metadata": {},
   "outputs": [],
   "source": [
    "james=['james',23,19,22,31,18]"
   ]
  },
  {
   "cell_type": "code",
   "execution_count": 33,
   "metadata": {},
   "outputs": [
    {
     "ename": "TypeError",
     "evalue": "'>' not supported between instances of 'int' and 'str'",
     "output_type": "error",
     "traceback": [
      "\u001b[1;31m---------------------------------------------------------------------------\u001b[0m",
      "\u001b[1;31mTypeError\u001b[0m                                 Traceback (most recent call last)",
      "\u001b[1;32m<ipython-input-33-960af8b9d829>\u001b[0m in \u001b[0;36m<module>\u001b[1;34m()\u001b[0m\n\u001b[1;32m----> 1\u001b[1;33m \u001b[0mprint\u001b[0m\u001b[1;33m(\u001b[0m\u001b[0mmax\u001b[0m\u001b[1;33m(\u001b[0m\u001b[0mjames\u001b[0m\u001b[1;33m)\u001b[0m\u001b[1;33m)\u001b[0m\u001b[1;33m\u001b[0m\u001b[0m\n\u001b[0m",
      "\u001b[1;31mTypeError\u001b[0m: '>' not supported between instances of 'int' and 'str'"
     ]
    }
   ],
   "source": [
    "print(max(james))"
   ]
  },
  {
   "cell_type": "code",
   "execution_count": 34,
   "metadata": {},
   "outputs": [
    {
     "name": "stdout",
     "output_type": "stream",
     "text": [
      "31\n"
     ]
    }
   ],
   "source": [
    "print(max(james[1:6]))"
   ]
  },
  {
   "cell_type": "code",
   "execution_count": 35,
   "metadata": {},
   "outputs": [
    {
     "name": "stdout",
     "output_type": "stream",
     "text": [
      "18\n"
     ]
    }
   ],
   "source": [
    "print(min(james[1:]))"
   ]
  },
  {
   "cell_type": "code",
   "execution_count": 36,
   "metadata": {},
   "outputs": [
    {
     "name": "stdout",
     "output_type": "stream",
     "text": [
      "113\n"
     ]
    }
   ],
   "source": [
    "print(sum(james[-5:]))"
   ]
  },
  {
   "cell_type": "code",
   "execution_count": 37,
   "metadata": {},
   "outputs": [
    {
     "name": "stdout",
     "output_type": "stream",
     "text": [
      "6\n"
     ]
    }
   ],
   "source": [
    "print(len(james))"
   ]
  },
  {
   "cell_type": "code",
   "execution_count": 38,
   "metadata": {},
   "outputs": [],
   "source": [
    "james=[23,19,22,31,18]"
   ]
  },
  {
   "cell_type": "code",
   "execution_count": 39,
   "metadata": {},
   "outputs": [],
   "source": [
    "james[2]=28"
   ]
  },
  {
   "cell_type": "code",
   "execution_count": 40,
   "metadata": {},
   "outputs": [
    {
     "name": "stdout",
     "output_type": "stream",
     "text": [
      "[23, 19, 28, 31, 18]\n"
     ]
    }
   ],
   "source": [
    "print(james)"
   ]
  },
  {
   "cell_type": "code",
   "execution_count": 41,
   "metadata": {},
   "outputs": [
    {
     "name": "stdout",
     "output_type": "stream",
     "text": [
      "['Toyota', 'Nissan', 'Honda', 'Audi', 'BMW']\n"
     ]
    }
   ],
   "source": [
    "cars1=['Toyota','Nissan','Honda']\n",
    "cars2=['Audi',\"BMW\"]\n",
    "cars1+=cars2\n",
    "print(cars1)"
   ]
  },
  {
   "cell_type": "code",
   "execution_count": 43,
   "metadata": {},
   "outputs": [
    {
     "name": "stdout",
     "output_type": "stream",
     "text": [
      "[1, 2, 3, 4, 5, 6]\n"
     ]
    }
   ],
   "source": [
    "num1=[1,2,3]\n",
    "num2=[4,5,6]\n",
    "num3=num1+num2\n",
    "print(num3)"
   ]
  },
  {
   "cell_type": "code",
   "execution_count": 44,
   "metadata": {},
   "outputs": [
    {
     "name": "stdout",
     "output_type": "stream",
     "text": [
      "[1, 2, 3, 1, 2, 3, 1, 2, 3]\n"
     ]
    }
   ],
   "source": [
    "num3=num1*3\n",
    "print(num3)"
   ]
  },
  {
   "cell_type": "code",
   "execution_count": 45,
   "metadata": {},
   "outputs": [
    {
     "name": "stdout",
     "output_type": "stream",
     "text": [
      "['Toyota', 'Nissan', 'Honda', 'Audi', 'BMW', 'Toyota', 'Nissan', 'Honda', 'Audi', 'BMW', 'Toyota', 'Nissan', 'Honda', 'Audi', 'BMW']\n"
     ]
    }
   ],
   "source": [
    "cars1=cars1*3\n",
    "print(cars1)"
   ]
  },
  {
   "cell_type": "code",
   "execution_count": 48,
   "metadata": {},
   "outputs": [
    {
     "name": "stdout",
     "output_type": "stream",
     "text": [
      "['Curry', 'Durant', 'Iquodala', 'Bell', 'Thompson']\n",
      "['Curry', 'Durant', 'Bell', 'Thompson']\n"
     ]
    }
   ],
   "source": [
    "warriors=['Curry','Durant','Iquodala','Bell','Thompson']\n",
    "print(warriors)\n",
    "del warriors[2]\n",
    "print(warriors)"
   ]
  },
  {
   "cell_type": "code",
   "execution_count": 51,
   "metadata": {},
   "outputs": [
    {
     "name": "stdout",
     "output_type": "stream",
     "text": [
      "[23, 19, 22, 31, 18]\n",
      "[19, 31]\n"
     ]
    }
   ],
   "source": [
    "james=[23,19,22,31,18]\n",
    "print(james)\n",
    "del james[0:5:2]\n",
    "print(james)"
   ]
  },
  {
   "cell_type": "code",
   "execution_count": 52,
   "metadata": {},
   "outputs": [
    {
     "name": "stdout",
     "output_type": "stream",
     "text": [
      "[1, 2, 3]\n"
     ]
    },
    {
     "ename": "NameError",
     "evalue": "name 'x' is not defined",
     "output_type": "error",
     "traceback": [
      "\u001b[1;31m---------------------------------------------------------------------------\u001b[0m",
      "\u001b[1;31mNameError\u001b[0m                                 Traceback (most recent call last)",
      "\u001b[1;32m<ipython-input-52-a930ac620ffb>\u001b[0m in \u001b[0;36m<module>\u001b[1;34m()\u001b[0m\n\u001b[0;32m      2\u001b[0m \u001b[0mprint\u001b[0m\u001b[1;33m(\u001b[0m\u001b[0mx\u001b[0m\u001b[1;33m)\u001b[0m\u001b[1;33m\u001b[0m\u001b[0m\n\u001b[0;32m      3\u001b[0m \u001b[1;32mdel\u001b[0m \u001b[0mx\u001b[0m\u001b[1;33m\u001b[0m\u001b[0m\n\u001b[1;32m----> 4\u001b[1;33m \u001b[0mprint\u001b[0m\u001b[1;33m(\u001b[0m\u001b[0mx\u001b[0m\u001b[1;33m)\u001b[0m\u001b[1;33m\u001b[0m\u001b[0m\n\u001b[0m",
      "\u001b[1;31mNameError\u001b[0m: name 'x' is not defined"
     ]
    }
   ],
   "source": [
    "x=[1,2,3]\n",
    "print(x)\n",
    "del x\n",
    "print(x)"
   ]
  },
  {
   "cell_type": "code",
   "execution_count": 53,
   "metadata": {},
   "outputs": [
    {
     "name": "stdout",
     "output_type": "stream",
     "text": [
      "Bmw BENZ\n"
     ]
    }
   ],
   "source": [
    "cars=['bmw','benz','audi']\n",
    "car1=cars[0].title()\n",
    "car2=cars[1].upper()\n",
    "print(car1,car2)"
   ]
  },
  {
   "cell_type": "code",
   "execution_count": 61,
   "metadata": {},
   "outputs": [
    {
     "data": {
      "text/plain": [
       "['__add__',\n",
       " '__class__',\n",
       " '__contains__',\n",
       " '__delattr__',\n",
       " '__delitem__',\n",
       " '__dir__',\n",
       " '__doc__',\n",
       " '__eq__',\n",
       " '__format__',\n",
       " '__ge__',\n",
       " '__getattribute__',\n",
       " '__getitem__',\n",
       " '__gt__',\n",
       " '__hash__',\n",
       " '__iadd__',\n",
       " '__imul__',\n",
       " '__init__',\n",
       " '__init_subclass__',\n",
       " '__iter__',\n",
       " '__le__',\n",
       " '__len__',\n",
       " '__lt__',\n",
       " '__mul__',\n",
       " '__ne__',\n",
       " '__new__',\n",
       " '__reduce__',\n",
       " '__reduce_ex__',\n",
       " '__repr__',\n",
       " '__reversed__',\n",
       " '__rmul__',\n",
       " '__setattr__',\n",
       " '__setitem__',\n",
       " '__sizeof__',\n",
       " '__str__',\n",
       " '__subclasshook__',\n",
       " 'append',\n",
       " 'clear',\n",
       " 'copy',\n",
       " 'count',\n",
       " 'extend',\n",
       " 'index',\n",
       " 'insert',\n",
       " 'pop',\n",
       " 'remove',\n",
       " 'reverse',\n",
       " 'sort']"
      ]
     },
     "execution_count": 61,
     "metadata": {},
     "output_type": "execute_result"
    }
   ],
   "source": [
    "stringlist=['bmw','benz','audi']\n",
    "dir(stringlist)"
   ]
  },
  {
   "cell_type": "code",
   "execution_count": 62,
   "metadata": {},
   "outputs": [
    {
     "data": {
      "text/plain": [
       "['__add__',\n",
       " '__class__',\n",
       " '__contains__',\n",
       " '__delattr__',\n",
       " '__delitem__',\n",
       " '__dir__',\n",
       " '__doc__',\n",
       " '__eq__',\n",
       " '__format__',\n",
       " '__ge__',\n",
       " '__getattribute__',\n",
       " '__getitem__',\n",
       " '__gt__',\n",
       " '__hash__',\n",
       " '__iadd__',\n",
       " '__imul__',\n",
       " '__init__',\n",
       " '__init_subclass__',\n",
       " '__iter__',\n",
       " '__le__',\n",
       " '__len__',\n",
       " '__lt__',\n",
       " '__mul__',\n",
       " '__ne__',\n",
       " '__new__',\n",
       " '__reduce__',\n",
       " '__reduce_ex__',\n",
       " '__repr__',\n",
       " '__reversed__',\n",
       " '__rmul__',\n",
       " '__setattr__',\n",
       " '__setitem__',\n",
       " '__sizeof__',\n",
       " '__str__',\n",
       " '__subclasshook__',\n",
       " 'append',\n",
       " 'clear',\n",
       " 'copy',\n",
       " 'count',\n",
       " 'extend',\n",
       " 'index',\n",
       " 'insert',\n",
       " 'pop',\n",
       " 'remove',\n",
       " 'reverse',\n",
       " 'sort']"
      ]
     },
     "execution_count": 62,
     "metadata": {},
     "output_type": "execute_result"
    }
   ],
   "source": [
    "numlist=[1,2,3]\n",
    "dir(numlist)"
   ]
  },
  {
   "cell_type": "code",
   "execution_count": 63,
   "metadata": {},
   "outputs": [
    {
     "data": {
      "text/plain": [
       "['__add__',\n",
       " '__class__',\n",
       " '__contains__',\n",
       " '__delattr__',\n",
       " '__delitem__',\n",
       " '__dir__',\n",
       " '__doc__',\n",
       " '__eq__',\n",
       " '__format__',\n",
       " '__ge__',\n",
       " '__getattribute__',\n",
       " '__getitem__',\n",
       " '__gt__',\n",
       " '__hash__',\n",
       " '__iadd__',\n",
       " '__imul__',\n",
       " '__init__',\n",
       " '__init_subclass__',\n",
       " '__iter__',\n",
       " '__le__',\n",
       " '__len__',\n",
       " '__lt__',\n",
       " '__mul__',\n",
       " '__ne__',\n",
       " '__new__',\n",
       " '__reduce__',\n",
       " '__reduce_ex__',\n",
       " '__repr__',\n",
       " '__reversed__',\n",
       " '__rmul__',\n",
       " '__setattr__',\n",
       " '__setitem__',\n",
       " '__sizeof__',\n",
       " '__str__',\n",
       " '__subclasshook__',\n",
       " 'append',\n",
       " 'clear',\n",
       " 'copy',\n",
       " 'count',\n",
       " 'extend',\n",
       " 'index',\n",
       " 'insert',\n",
       " 'pop',\n",
       " 'remove',\n",
       " 'reverse',\n",
       " 'sort']"
      ]
     },
     "execution_count": 63,
     "metadata": {},
     "output_type": "execute_result"
    }
   ],
   "source": [
    "lisr=[1,2,'hi']\n",
    "dir(list)"
   ]
  },
  {
   "cell_type": "code",
   "execution_count": 70,
   "metadata": {},
   "outputs": [
    {
     "name": "stdout",
     "output_type": "stream",
     "text": [
      "['bmw', 'benz', 'audi', 'toyota']\n",
      "['bmw', 'benz', 'audi', 'toyota', 'honda']\n",
      "['bmw', 'benz', 'audi', 'toyota', 'honda', 'ford']\n"
     ]
    }
   ],
   "source": [
    "cars=['bmw','benz','audi']\n",
    "cars.append('toyota')\n",
    "print(cars)\n",
    "cars.append('honda')\n",
    "print(cars)\n",
    "cars.append('ford')\n",
    "print(cars)"
   ]
  },
  {
   "cell_type": "code",
   "execution_count": 74,
   "metadata": {},
   "outputs": [
    {
     "name": "stdout",
     "output_type": "stream",
     "text": [
      "['bmw', 'toyota', 'benz', 'audi']\n",
      "['bmw', 'honda', 'toyota', 'benz', 'audi']\n"
     ]
    }
   ],
   "source": [
    "cars=['bmw','benz','audi']\n",
    "cars.insert(1,'toyota')\n",
    "print(cars)\n",
    "cars.insert(1,'honda')\n",
    "print(cars)"
   ]
  },
  {
   "cell_type": "code",
   "execution_count": 75,
   "metadata": {},
   "outputs": [
    {
     "name": "stdout",
     "output_type": "stream",
     "text": [
      "audi\n",
      "['bmw', 'honda', 'toyota', 'benz']\n",
      "honda\n",
      "['bmw', 'toyota', 'benz']\n"
     ]
    }
   ],
   "source": [
    "popedcar=cars.pop()\n",
    "print(popedcar)\n",
    "print(cars)\n",
    "popedcar=cars.pop(1)\n",
    "print(popedcar)\n",
    "print(cars)"
   ]
  },
  {
   "cell_type": "code",
   "execution_count": 77,
   "metadata": {},
   "outputs": [
    {
     "name": "stdout",
     "output_type": "stream",
     "text": [
      "['benz', 'audi', 'bmw']\n"
     ]
    }
   ],
   "source": [
    "#if don't know the index\n",
    "cars=['bmw','benz','audi','bmw']\n",
    "cars.remove('bmw')\n",
    "print(cars)"
   ]
  },
  {
   "cell_type": "code",
   "execution_count": 85,
   "metadata": {},
   "outputs": [
    {
     "name": "stdout",
     "output_type": "stream",
     "text": [
      "['audi', 'benz', 'toyota', 'honda', 'bmw']\n",
      "['bmw', 'honda', 'toyota', 'benz', 'audi']\n"
     ]
    }
   ],
   "source": [
    "cars=['bmw', 'honda', 'toyota', 'benz', 'audi']\n",
    "cars.reverse()\n",
    "print(cars)\n",
    "print(cars[::-1])#*********************"
   ]
  },
  {
   "cell_type": "code",
   "execution_count": 90,
   "metadata": {},
   "outputs": [
    {
     "name": "stdout",
     "output_type": "stream",
     "text": [
      "['audi', 'benz', 'bmw', 'honda', 'toyota']\n",
      "['toyota', 'honda', 'bmw', 'benz', 'audi']\n"
     ]
    }
   ],
   "source": [
    "cars=['bmw', 'honda', 'toyota', 'benz', 'audi']\n",
    "cars.sort()\n",
    "print(cars)\n",
    "cars.reverse()\n",
    "print(cars)"
   ]
  },
  {
   "cell_type": "code",
   "execution_count": 89,
   "metadata": {},
   "outputs": [
    {
     "name": "stdout",
     "output_type": "stream",
     "text": [
      "[2, 3, 4, 5, 6, 8]\n",
      "[8, 6, 5, 4, 3, 2]\n"
     ]
    }
   ],
   "source": [
    "num=[5,6,8,2,3,4]\n",
    "num.sort()\n",
    "print(num)\n",
    "num.reverse()\n",
    "print(num)"
   ]
  },
  {
   "cell_type": "code",
   "execution_count": 91,
   "metadata": {},
   "outputs": [
    {
     "name": "stdout",
     "output_type": "stream",
     "text": [
      "['toyota', 'honda', 'bmw', 'benz', 'audi']\n"
     ]
    }
   ],
   "source": [
    "cars=['bmw', 'honda', 'toyota', 'benz', 'audi']\n",
    "cars.sort(reverse=True)\n",
    "print(cars)"
   ]
  },
  {
   "cell_type": "code",
   "execution_count": 94,
   "metadata": {},
   "outputs": [
    {
     "name": "stdout",
     "output_type": "stream",
     "text": [
      "[8, 6, 5, 4, 3, 2]\n"
     ]
    }
   ],
   "source": [
    "num=[5,6,8,2,3,4]\n",
    "num.sort(reverse=True)\n",
    "print(num)"
   ]
  },
  {
   "cell_type": "code",
   "execution_count": 95,
   "metadata": {},
   "outputs": [
    {
     "name": "stdout",
     "output_type": "stream",
     "text": [
      "['audi', 'benz', 'bmw', 'honda', 'toyota']\n"
     ]
    }
   ],
   "source": [
    "cars=['bmw', 'honda', 'toyota', 'benz', 'audi']\n",
    "sortcars=sorted(cars)\n",
    "print(sortcars)"
   ]
  },
  {
   "cell_type": "code",
   "execution_count": 97,
   "metadata": {},
   "outputs": [
    {
     "name": "stdout",
     "output_type": "stream",
     "text": [
      "[2, 3, 4, 5, 6, 8]\n"
     ]
    }
   ],
   "source": [
    "num=[5,6,8,2,3,4]\n",
    "sortnum=sorted(num)\n",
    "print(sortnum)"
   ]
  },
  {
   "cell_type": "code",
   "execution_count": 98,
   "metadata": {},
   "outputs": [
    {
     "name": "stdout",
     "output_type": "stream",
     "text": [
      "['toyota', 'honda', 'bmw', 'benz', 'audi']\n"
     ]
    }
   ],
   "source": [
    "cars=['bmw', 'honda', 'toyota', 'benz', 'audi']\n",
    "sortcars=sorted(cars,reverse=True)\n",
    "print(sortcars)"
   ]
  },
  {
   "cell_type": "code",
   "execution_count": 99,
   "metadata": {},
   "outputs": [
    {
     "name": "stdout",
     "output_type": "stream",
     "text": [
      "[8, 6, 5, 4, 3, 2]\n"
     ]
    }
   ],
   "source": [
    "num=[5,6,8,2,3,4]\n",
    "sortnum=sorted(num,reverse=True)\n",
    "print(sortnum)"
   ]
  },
  {
   "cell_type": "code",
   "execution_count": 101,
   "metadata": {},
   "outputs": [
    {
     "name": "stdout",
     "output_type": "stream",
     "text": [
      "0\n"
     ]
    }
   ],
   "source": [
    "cars=['bmw', 'honda', 'toyota', 'benz', 'audi']\n",
    "index=cars.index('bmw')\n",
    "print(index)"
   ]
  },
  {
   "cell_type": "code",
   "execution_count": 102,
   "metadata": {},
   "outputs": [
    {
     "name": "stdout",
     "output_type": "stream",
     "text": [
      "3\n"
     ]
    }
   ],
   "source": [
    "num=[5,6,8,2,3,4]\n",
    "index=num.index(2)\n",
    "print(index)"
   ]
  },
  {
   "cell_type": "code",
   "execution_count": 103,
   "metadata": {},
   "outputs": [
    {
     "name": "stdout",
     "output_type": "stream",
     "text": [
      "2\n"
     ]
    }
   ],
   "source": [
    "num=[5,6,8,6,3,4]\n",
    "count=num.count(6)\n",
    "print(count)"
   ]
  },
  {
   "cell_type": "code",
   "execution_count": 104,
   "metadata": {},
   "outputs": [
    {
     "name": "stdout",
     "output_type": "stream",
     "text": [
      "2\n"
     ]
    }
   ],
   "source": [
    "cars=['bmw', 'honda', 'toyota', 'benz', 'bmw']\n",
    "count=cars.count('bmw')\n",
    "print(count)"
   ]
  },
  {
   "cell_type": "code",
   "execution_count": 108,
   "metadata": {},
   "outputs": [
    {
     "name": "stdout",
     "output_type": "stream",
     "text": [
      "bmw-honda-toyota-benz-audi\n",
      "bmw***honda***toyota***benz***audi\n",
      "bmw\n",
      "honda\n",
      "toyota\n",
      "benz\n",
      "audi\n"
     ]
    }
   ],
   "source": [
    "char='-'\n",
    "cars=['bmw', 'honda', 'toyota', 'benz', 'audi']\n",
    "print(char.join(cars))\n",
    "char='***'\n",
    "print(char.join(cars))\n",
    "char='\\n'\n",
    "print(char.join(cars))"
   ]
  },
  {
   "cell_type": "code",
   "execution_count": 109,
   "metadata": {},
   "outputs": [
    {
     "name": "stdout",
     "output_type": "stream",
     "text": [
      "2\n",
      "6\n",
      "8\n"
     ]
    }
   ],
   "source": [
    "num=[2,3,8,5,2,[2,6,8]]\n",
    "print(num[5][0])\n",
    "print(num[5][1])\n",
    "print(num[5][2])"
   ]
  },
  {
   "cell_type": "code",
   "execution_count": 111,
   "metadata": {},
   "outputs": [
    {
     "name": "stdout",
     "output_type": "stream",
     "text": [
      "name:Lebron James\n",
      "position:SF\n",
      "born:12/30/84\n",
      "在第4場分數最高:31\n"
     ]
    }
   ],
   "source": [
    "James=[['Lebron James','SF','12/30/84'],23,19,22,31,18]\n",
    "games=len(James)\n",
    "score_Max=max(James[1:games])\n",
    "i=James.index(score_Max)\n",
    "name=James[0][0]\n",
    "position=James[0][1]\n",
    "born=James[0][2]\n",
    "print(\"name:%s\"%name)\n",
    "print(\"position:%s\"%position)\n",
    "print(\"born:%s\"%born)\n",
    "print(\"在第%d場分數最高:%d\"%(i,score_Max))"
   ]
  },
  {
   "cell_type": "code",
   "execution_count": 112,
   "metadata": {},
   "outputs": [
    {
     "name": "stdout",
     "output_type": "stream",
     "text": [
      "['bmw', 'honda', 'toyota', ['benz', 'bmw']]\n"
     ]
    }
   ],
   "source": [
    "a=['bmw', 'honda', 'toyota']\n",
    "b=['benz', 'bmw']\n",
    "a.append(b)\n",
    "print(a)"
   ]
  },
  {
   "cell_type": "code",
   "execution_count": 114,
   "metadata": {},
   "outputs": [
    {
     "name": "stdout",
     "output_type": "stream",
     "text": [
      "['bmw', 'honda', 'toyota', 'benz', 'bmw']\n"
     ]
    }
   ],
   "source": [
    "a=['bmw', 'honda', 'toyota']\n",
    "b=['benz', 'bmw']\n",
    "a.extend(b)\n",
    "print(a)"
   ]
  },
  {
   "cell_type": "code",
   "execution_count": 5,
   "metadata": {},
   "outputs": [
    {
     "name": "stdout",
     "output_type": "stream",
     "text": [
      "['basketball', 'baseball']\n",
      "['basketball', 'baseball']\n",
      "454182708872\n",
      "454182708872\n",
      "['basketball', 'baseball', 'football', 'soccer']\n",
      "['basketball', 'baseball', 'football', 'soccer']\n",
      "454182708872\n",
      "454182708872\n"
     ]
    }
   ],
   "source": [
    "#deep copy\n",
    "mysport=['basketball','baseball']\n",
    "friendsport=mysport #copy address\n",
    "print(mysport)\n",
    "print(friendsport)\n",
    "print(id(mysport))\n",
    "print(id(friendsport))\n",
    "mysport.append('football')\n",
    "friendsport.append('soccer')\n",
    "print(mysport)\n",
    "print(friendsport)\n",
    "print(id(mysport))\n",
    "print(id(friendsport))"
   ]
  },
  {
   "cell_type": "code",
   "execution_count": 6,
   "metadata": {},
   "outputs": [
    {
     "name": "stdout",
     "output_type": "stream",
     "text": [
      "['basketball', 'baseball']\n",
      "['basketball', 'baseball']\n",
      "454182709000\n",
      "454182708552\n",
      "['basketball', 'baseball', 'football']\n",
      "['basketball', 'baseball', 'soccer']\n",
      "454182709000\n",
      "454182708552\n"
     ]
    }
   ],
   "source": [
    "#shallow copy\n",
    "mysport=['basketball','baseball']\n",
    "friendsport=mysport[:]\n",
    "print(mysport)\n",
    "print(friendsport)\n",
    "print(id(mysport))\n",
    "print(id(friendsport))\n",
    "mysport.append('football')\n",
    "friendsport.append('soccer')\n",
    "print(mysport)\n",
    "print(friendsport)\n",
    "print(id(mysport))\n",
    "print(id(friendsport))"
   ]
  },
  {
   "cell_type": "code",
   "execution_count": 7,
   "metadata": {},
   "outputs": [
    {
     "ename": "TypeError",
     "evalue": "'str' object does not support item assignment",
     "output_type": "error",
     "traceback": [
      "\u001b[1;31m---------------------------------------------------------------------------\u001b[0m",
      "\u001b[1;31mTypeError\u001b[0m                                 Traceback (most recent call last)",
      "\u001b[1;32m<ipython-input-7-b941c00ec69e>\u001b[0m in \u001b[0;36m<module>\u001b[1;34m()\u001b[0m\n\u001b[0;32m      1\u001b[0m \u001b[0mstring\u001b[0m\u001b[1;33m=\u001b[0m\u001b[1;34m\"python\"\u001b[0m\u001b[1;33m\u001b[0m\u001b[0m\n\u001b[1;32m----> 2\u001b[1;33m \u001b[0mstring\u001b[0m\u001b[1;33m[\u001b[0m\u001b[1;36m0\u001b[0m\u001b[1;33m]\u001b[0m\u001b[1;33m=\u001b[0m\u001b[1;34m'd'\u001b[0m\u001b[1;33m\u001b[0m\u001b[0m\n\u001b[0m",
      "\u001b[1;31mTypeError\u001b[0m: 'str' object does not support item assignment"
     ]
    }
   ],
   "source": [
    "string=\"python\"\n",
    "string[0]='d'"
   ]
  },
  {
   "cell_type": "code",
   "execution_count": 10,
   "metadata": {},
   "outputs": [
    {
     "name": "stdout",
     "output_type": "stream",
     "text": [
      "p\n",
      "y\n",
      "t\n",
      "h\n",
      "o\n",
      "n\n",
      "n\n",
      "o\n",
      "h\n",
      "t\n",
      "y\n",
      "p\n",
      "p y t h o n\n"
     ]
    }
   ],
   "source": [
    "string=\"python\"\n",
    "print(string[0])\n",
    "print(string[1])\n",
    "print(string[2])\n",
    "print(string[3])\n",
    "print(string[4])\n",
    "print(string[5])\n",
    "print(string[-1])\n",
    "print(string[-2])\n",
    "print(string[-3])\n",
    "print(string[-4])\n",
    "print(string[-5])\n",
    "print(string[-6])\n",
    "s1,s2,s3,s4,s5,s6=string\n",
    "print(s1,s2,s3,s4,s5,s6)"
   ]
  },
  {
   "cell_type": "code",
   "execution_count": 11,
   "metadata": {},
   "outputs": [
    {
     "name": "stdout",
     "output_type": "stream",
     "text": [
      "Dee\n",
      "eep\n",
      "epL\n",
      "eep Learning\n",
      "ing\n"
     ]
    }
   ],
   "source": [
    "string='Deep Learning'\n",
    "print(string[0:3])\n",
    "print(string[1:4])\n",
    "print(string[1:6:2])\n",
    "print(string[1:])\n",
    "print(string[-3:])"
   ]
  },
  {
   "cell_type": "code",
   "execution_count": 16,
   "metadata": {},
   "outputs": [
    {
     "name": "stdout",
     "output_type": "stream",
     "text": [
      "13\n",
      "r\n",
      " \n"
     ]
    }
   ],
   "source": [
    "string='Deep Learning'\n",
    "strlen=len(string)\n",
    "strmax=max(string)\n",
    "strmin=min(string)\n",
    "print(strlen)\n",
    "print(strmax)\n",
    "print(strmin)"
   ]
  },
  {
   "cell_type": "code",
   "execution_count": 20,
   "metadata": {},
   "outputs": [
    {
     "name": "stdout",
     "output_type": "stream",
     "text": [
      "['p', 'y', 't', 'h', 'o', 'n']\n"
     ]
    }
   ],
   "source": [
    "string='python'\n",
    "x=list(string)\n",
    "print(x)"
   ]
  },
  {
   "cell_type": "code",
   "execution_count": 24,
   "metadata": {},
   "outputs": [
    {
     "name": "stdout",
     "output_type": "stream",
     "text": [
      "['p', 'h', 'e', 'l', 'l', 'o']\n"
     ]
    }
   ],
   "source": [
    "x[1:]='hello'\n",
    "print(x)"
   ]
  },
  {
   "cell_type": "code",
   "execution_count": 26,
   "metadata": {},
   "outputs": [
    {
     "name": "stdout",
     "output_type": "stream",
     "text": [
      "['Silicon', 'Stone', 'Education']\n",
      "3\n",
      "['DeepDtone']\n",
      "1\n",
      "['深度學習']\n",
      "1\n"
     ]
    }
   ],
   "source": [
    "str1='Silicon Stone Education'\n",
    "str2='DeepDtone'\n",
    "str3='深度學習'\n",
    "str1list=str1.split()\n",
    "str2list=str2.split()\n",
    "str3list=str3.split()\n",
    "print(str1list)\n",
    "print(len(str1list))\n",
    "print(str2list)\n",
    "print(len(str2list))\n",
    "print(str3list)\n",
    "print(len(str3list))"
   ]
  },
  {
   "cell_type": "code",
   "execution_count": 27,
   "metadata": {},
   "outputs": [
    {
     "name": "stdout",
     "output_type": "stream",
     "text": [
      "input:d\n",
      "belongs to password\n",
      "belongs to password\n"
     ]
    }
   ],
   "source": [
    "#in & not in to determine if an object belongs to another object\n",
    "password='deepstone'\n",
    "ch=input('input:')\n",
    "if ch in password:\n",
    "    print('belongs to password')\n",
    "else:\n",
    "    print('not belongs to password')\n",
    "if ch not in password:\n",
    "    print('not belongs to password')\n",
    "else:\n",
    "    print('belongs to password')"
   ]
  },
  {
   "cell_type": "code",
   "execution_count": 28,
   "metadata": {},
   "outputs": [
    {
     "name": "stdout",
     "output_type": "stream",
     "text": [
      "fruit:orange\n",
      "add into fruits\n"
     ]
    }
   ],
   "source": [
    "fruits=['apple','banana','pineapple']\n",
    "fruit=input('fruit:')\n",
    "if fruit in fruits:\n",
    "    print('already in fruits')\n",
    "else:\n",
    "    fruits.append(fruit)\n",
    "    print('add into fruits')"
   ]
  },
  {
   "cell_type": "code",
   "execution_count": 37,
   "metadata": {},
   "outputs": [
    {
     "name": "stdout",
     "output_type": "stream",
     "text": [
      "1761176928 1761176928 1761177088 1761177248\n",
      "1761176928 1761176928 1761176928 1761177248\n",
      "454182708936 454182827720\n",
      "454139723032 454139723032\n"
     ]
    }
   ],
   "source": [
    "x=10\n",
    "y=10\n",
    "z=15\n",
    "w=20\n",
    "print(id(x),id(y),id(z),id(w))\n",
    "z=10\n",
    "print(id(x),id(y),id(z),id(w))\n",
    "list1=['a','b','c']\n",
    "list2=['a','b','c']\n",
    "print(id(list1),id(list2)) #list seems not to point to the same address\n",
    "str1='abc'\n",
    "str2='abc'\n",
    "print(id(str1),id(str2))"
   ]
  },
  {
   "cell_type": "code",
   "execution_count": 40,
   "metadata": {},
   "outputs": [
    {
     "name": "stdout",
     "output_type": "stream",
     "text": [
      "True\n",
      "False\n",
      "True\n",
      "False\n",
      "True\n",
      "False\n"
     ]
    }
   ],
   "source": [
    "#is & not is to determine if an object has the same address as another object\n",
    "x=10\n",
    "y=10\n",
    "z=15\n",
    "w=z-5\n",
    "boolvalue=x is y\n",
    "print(boolvalue)\n",
    "boolvalue=x is z\n",
    "print(boolvalue)\n",
    "boolvalue=x is w\n",
    "print(boolvalue)\n",
    "boolvalue=x is not y\n",
    "print(boolvalue)\n",
    "boolvalue=x is not z\n",
    "print(boolvalue)\n",
    "boolvalue=x is not w\n",
    "print(boolvalue)"
   ]
  },
  {
   "cell_type": "code",
   "execution_count": 44,
   "metadata": {},
   "outputs": [
    {
     "name": "stdout",
     "output_type": "stream",
     "text": [
      "454182797192 454182797192 454182758600\n",
      "True\n",
      "False\n",
      "False\n",
      "True\n"
     ]
    }
   ],
   "source": [
    "list1=['a','b','c']\n",
    "list2=list1\n",
    "list3=list1[:]\n",
    "print(id(list1),id(list2),id(list3))\n",
    "boolvalue=list1 is list2\n",
    "print(boolvalue)\n",
    "boolvalue=list1 is list3\n",
    "print(boolvalue)\n",
    "boolvalue=list1 is not list2\n",
    "print(boolvalue)\n",
    "boolvalue=list1 is not list3\n",
    "print(boolvalue)"
   ]
  },
  {
   "cell_type": "code",
   "execution_count": 49,
   "metadata": {},
   "outputs": [
    {
     "name": "stdout",
     "output_type": "stream",
     "text": [
      "<enumerate object at 0x00000069BF67AAF8>\n",
      "<class 'enumerate'>\n",
      "[(0, 'tea'), (1, 'coffee'), (2, 'wine')]\n",
      "[(10, 'tea'), (11, 'coffee'), (12, 'wine')]\n"
     ]
    }
   ],
   "source": [
    "#enumerate\n",
    "drinks=['tea','coffee','wine']\n",
    "x=enumerate(drinks)\n",
    "print(x) #return an address\n",
    "print(type(x))\n",
    "print(list(x))\n",
    "x=enumerate(drinks,start=10)\n",
    "print(list(x))"
   ]
  },
  {
   "cell_type": "code",
   "execution_count": null,
   "metadata": {},
   "outputs": [],
   "source": []
  }
 ],
 "metadata": {
  "kernelspec": {
   "display_name": "Python 3",
   "language": "python",
   "name": "python3"
  },
  "language_info": {
   "codemirror_mode": {
    "name": "ipython",
    "version": 3
   },
   "file_extension": ".py",
   "mimetype": "text/x-python",
   "name": "python",
   "nbconvert_exporter": "python",
   "pygments_lexer": "ipython3",
   "version": "3.6.5"
  }
 },
 "nbformat": 4,
 "nbformat_minor": 2
}
