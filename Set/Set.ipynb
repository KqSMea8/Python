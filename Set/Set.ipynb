{
 "cells": [
  {
   "cell_type": "code",
   "execution_count": 1,
   "metadata": {},
   "outputs": [
    {
     "name": "stdout",
     "output_type": "stream",
     "text": [
      "<class 'set'>\n",
      "{123, 'banana', 'apple'}\n"
     ]
    }
   ],
   "source": [
    "#can't add list, set, and dictionary\n",
    "set1={'apple','banana',123}\n",
    "print(type(set1))\n",
    "print(set1)"
   ]
  },
  {
   "cell_type": "code",
   "execution_count": 1,
   "metadata": {},
   "outputs": [
    {
     "name": "stdout",
     "output_type": "stream",
     "text": [
      "{'Python', 'C', 'Java'}\n"
     ]
    }
   ],
   "source": [
    "set1={'Java','Python','C','Python','Java'}\n",
    "print(set1)"
   ]
  },
  {
   "cell_type": "code",
   "execution_count": 2,
   "metadata": {},
   "outputs": [
    {
     "name": "stdout",
     "output_type": "stream",
     "text": [
      "{1, 2, 5}\n",
      "{1, 'Python', (2, 5, 6)}\n"
     ]
    }
   ],
   "source": [
    "set1={1,2,5}\n",
    "print(set1)\n",
    "set1={1,'Python',(2,5,6)}\n",
    "print(set1)"
   ]
  },
  {
   "cell_type": "code",
   "execution_count": 3,
   "metadata": {},
   "outputs": [
    {
     "ename": "TypeError",
     "evalue": "unhashable type: 'list'",
     "output_type": "error",
     "traceback": [
      "\u001b[1;31m---------------------------------------------------------------------------\u001b[0m",
      "\u001b[1;31mTypeError\u001b[0m                                 Traceback (most recent call last)",
      "\u001b[1;32m<ipython-input-3-5e01450760a9>\u001b[0m in \u001b[0;36m<module>\u001b[1;34m()\u001b[0m\n\u001b[1;32m----> 1\u001b[1;33m \u001b[0mset1\u001b[0m\u001b[1;33m=\u001b[0m\u001b[1;33m{\u001b[0m\u001b[1;36m1\u001b[0m\u001b[1;33m,\u001b[0m\u001b[1;34m'Python'\u001b[0m\u001b[1;33m,\u001b[0m\u001b[1;33m[\u001b[0m\u001b[1;36m2\u001b[0m\u001b[1;33m,\u001b[0m\u001b[1;36m5\u001b[0m\u001b[1;33m,\u001b[0m\u001b[1;36m6\u001b[0m\u001b[1;33m]\u001b[0m\u001b[1;33m}\u001b[0m\u001b[1;33m\u001b[0m\u001b[0m\n\u001b[0m",
      "\u001b[1;31mTypeError\u001b[0m: unhashable type: 'list'"
     ]
    }
   ],
   "source": [
    "set1={1,'Python',[2,5,6]}"
   ]
  },
  {
   "cell_type": "code",
   "execution_count": 5,
   "metadata": {},
   "outputs": [
    {
     "name": "stdout",
     "output_type": "stream",
     "text": [
      "{}\n",
      "<class 'dict'>\n"
     ]
    }
   ],
   "source": [
    "x={}\n",
    "print(x)\n",
    "print(type(x)) # not set"
   ]
  },
  {
   "cell_type": "code",
   "execution_count": 7,
   "metadata": {},
   "outputs": [
    {
     "name": "stdout",
     "output_type": "stream",
     "text": [
      "<class 'dict'>\n",
      "<class 'set'>\n"
     ]
    }
   ],
   "source": [
    "empty_dict={}\n",
    "empty_set=set()\n",
    "print(type(empty_dict))\n",
    "print(type(empty_set))"
   ]
  },
  {
   "cell_type": "code",
   "execution_count": 9,
   "metadata": {},
   "outputs": [
    {
     "name": "stdout",
     "output_type": "stream",
     "text": [
      "{' ', 'd', 'H', 'l', 'o', 'r', 'W', 'e'}\n"
     ]
    }
   ],
   "source": [
    "string='Hello World'\n",
    "set1=set(string)\n",
    "print(set1)"
   ]
  },
  {
   "cell_type": "code",
   "execution_count": 10,
   "metadata": {},
   "outputs": [
    {
     "name": "stdout",
     "output_type": "stream",
     "text": [
      "{'orange', 'banana', 'watermelon', 'apple'}\n"
     ]
    }
   ],
   "source": [
    "fruits=['apple','banana','orange','watermelon']\n",
    "set1=set(fruits)\n",
    "print(set1)"
   ]
  },
  {
   "cell_type": "code",
   "execution_count": 11,
   "metadata": {},
   "outputs": [
    {
     "name": "stdout",
     "output_type": "stream",
     "text": [
      "{'orange', 'banana', 'watermelon', 'apple'}\n"
     ]
    }
   ],
   "source": [
    "fruits=('apple','banana','orange','watermelon')\n",
    "set2=set(fruits)\n",
    "print(set2)"
   ]
  },
  {
   "cell_type": "code",
   "execution_count": 12,
   "metadata": {},
   "outputs": [
    {
     "name": "stdout",
     "output_type": "stream",
     "text": [
      "['apple', 'banana', 'orange', 'watermelon', 'apple', 'banana']\n",
      "['orange', 'banana', 'watermelon', 'apple']\n"
     ]
    }
   ],
   "source": [
    "fruits=['apple','banana','orange','watermelon','apple','banana']\n",
    "x=set(fruits)\n",
    "fruits2=list(x)\n",
    "print(fruits)\n",
    "print(fruits2)"
   ]
  },
  {
   "cell_type": "code",
   "execution_count": 13,
   "metadata": {},
   "outputs": [
    {
     "name": "stdout",
     "output_type": "stream",
     "text": [
      "{'Peter'}\n"
     ]
    }
   ],
   "source": [
    "math={'Kevin','Peter','Eric'}\n",
    "physics={'Peter','Jimmy','Tom'}\n",
    "same=math&physics\n",
    "print(same)"
   ]
  },
  {
   "cell_type": "code",
   "execution_count": 15,
   "metadata": {},
   "outputs": [
    {
     "name": "stdout",
     "output_type": "stream",
     "text": [
      "{'Peter'}\n",
      "{'Peter'}\n"
     ]
    }
   ],
   "source": [
    "math={'Kevin','Peter','Eric'}\n",
    "physics={'Peter','Jimmy','Tom'}\n",
    "same=math.intersection(physics)\n",
    "print(same)\n",
    "same1=physics.intersection(math)\n",
    "print(same1)"
   ]
  },
  {
   "cell_type": "code",
   "execution_count": 16,
   "metadata": {},
   "outputs": [
    {
     "name": "stdout",
     "output_type": "stream",
     "text": [
      "{'Jimmy', 'Kevin', 'Eric', 'Tom', 'Peter'}\n"
     ]
    }
   ],
   "source": [
    "math={'Kevin','Peter','Eric'}\n",
    "physics={'Peter','Jimmy','Tom'}\n",
    "allp=math|physics\n",
    "print(allp)"
   ]
  },
  {
   "cell_type": "code",
   "execution_count": 17,
   "metadata": {},
   "outputs": [
    {
     "name": "stdout",
     "output_type": "stream",
     "text": [
      "{'Jimmy', 'Kevin', 'Eric', 'Tom', 'Peter'}\n",
      "{'Jimmy', 'Kevin', 'Eric', 'Tom', 'Peter'}\n"
     ]
    }
   ],
   "source": [
    "math={'Kevin','Peter','Eric'}\n",
    "physics={'Peter','Jimmy','Tom'}\n",
    "allp=math.union(physics)\n",
    "print(allp)\n",
    "allp1=physics.union(math)\n",
    "print(allp1)"
   ]
  },
  {
   "cell_type": "code",
   "execution_count": 18,
   "metadata": {},
   "outputs": [
    {
     "name": "stdout",
     "output_type": "stream",
     "text": [
      "{'Eric', 'Kevin'}\n"
     ]
    }
   ],
   "source": [
    "math={'Kevin','Peter','Eric'}\n",
    "physics={'Peter','Jimmy','Tom'}\n",
    "diff=math-physics\n",
    "print(diff)"
   ]
  },
  {
   "cell_type": "code",
   "execution_count": 20,
   "metadata": {},
   "outputs": [
    {
     "name": "stdout",
     "output_type": "stream",
     "text": [
      "{'Eric', 'Kevin'}\n",
      "{'Jimmy', 'Tom'}\n"
     ]
    }
   ],
   "source": [
    "math={'Kevin','Peter','Eric'}\n",
    "physics={'Peter','Jimmy','Tom'}\n",
    "diff=math.difference(physics)\n",
    "print(diff)\n",
    "diff1=physics.difference(math)\n",
    "print(diff1)"
   ]
  },
  {
   "cell_type": "code",
   "execution_count": 21,
   "metadata": {},
   "outputs": [
    {
     "name": "stdout",
     "output_type": "stream",
     "text": [
      "{'Jimmy', 'Kevin', 'Tom', 'Eric'}\n"
     ]
    }
   ],
   "source": [
    "math={'Kevin','Peter','Eric'}\n",
    "physics={'Peter','Jimmy','Tom'}\n",
    "only=math^physics\n",
    "print(only)"
   ]
  },
  {
   "cell_type": "code",
   "execution_count": 22,
   "metadata": {},
   "outputs": [
    {
     "name": "stdout",
     "output_type": "stream",
     "text": [
      "{'Jimmy', 'Kevin', 'Tom', 'Eric'}\n",
      "{'Jimmy', 'Kevin', 'Tom', 'Eric'}\n"
     ]
    }
   ],
   "source": [
    "math={'Kevin','Peter','Eric'}\n",
    "physics={'Peter','Jimmy','Tom'}\n",
    "only=math.symmetric_difference(physics)\n",
    "print(only)\n",
    "only1=physics.symmetric_difference(math)\n",
    "print(only1)"
   ]
  },
  {
   "cell_type": "code",
   "execution_count": 23,
   "metadata": {},
   "outputs": [
    {
     "name": "stdout",
     "output_type": "stream",
     "text": [
      "True\n",
      "False\n"
     ]
    }
   ],
   "source": [
    "math={'Kevin','Peter','Eric'}\n",
    "physics={'Peter','Jimmy','Tom'}\n",
    "English={'Kevin','Peter','Eric'}\n",
    "print(math==English)\n",
    "print(math==physics)"
   ]
  },
  {
   "cell_type": "code",
   "execution_count": 24,
   "metadata": {},
   "outputs": [
    {
     "name": "stdout",
     "output_type": "stream",
     "text": [
      "False\n",
      "True\n"
     ]
    }
   ],
   "source": [
    "math={'Kevin','Peter','Eric'}\n",
    "physics={'Peter','Jimmy','Tom'}\n",
    "English={'Kevin','Peter','Eric'}\n",
    "print(math!=English)\n",
    "print(math!=physics)"
   ]
  },
  {
   "cell_type": "code",
   "execution_count": 25,
   "metadata": {},
   "outputs": [
    {
     "name": "stdout",
     "output_type": "stream",
     "text": [
      "True\n",
      "False\n",
      "False\n",
      "True\n"
     ]
    }
   ],
   "source": [
    "fruit=set('orange')\n",
    "print('o'in fruit)\n",
    "print('q'in fruit)\n",
    "cars={'Nissan','Ford','Toyota'}\n",
    "print('Audi'in cars)\n",
    "print('Ford'in cars)"
   ]
  },
  {
   "cell_type": "code",
   "execution_count": 26,
   "metadata": {},
   "outputs": [
    {
     "name": "stdout",
     "output_type": "stream",
     "text": [
      "False\n",
      "True\n",
      "True\n",
      "False\n"
     ]
    }
   ],
   "source": [
    "fruit=set('orange')\n",
    "print('o'not in fruit)\n",
    "print('q'not in fruit)\n",
    "cars={'Nissan','Ford','Toyota'}\n",
    "print('Audi'not in cars)\n",
    "print('Ford'not in cars)"
   ]
  },
  {
   "cell_type": "code",
   "execution_count": 27,
   "metadata": {},
   "outputs": [
    {
     "name": "stdout",
     "output_type": "stream",
     "text": [
      "{'Taipei', 'Beijing', 'Tokyo'}\n",
      "{'Chicago', 'Taipei', 'Beijing', 'Tokyo'}\n",
      "{'Chicago', 'Taipei', 'Beijing', 'Tokyo'}\n",
      "{'Tokyo', 'Taipei', (1, 2, 3), 'Chicago', 'Beijing'}\n"
     ]
    }
   ],
   "source": [
    "cities={'Taipei','Beijing','Tokyo'}\n",
    "print(cities)\n",
    "cities.add('Chicago')\n",
    "print(cities)\n",
    "cities.add('Taipei')\n",
    "print(cities)\n",
    "cities.add((1,2,3))\n",
    "print(cities)"
   ]
  },
  {
   "cell_type": "code",
   "execution_count": 32,
   "metadata": {},
   "outputs": [
    {
     "name": "stdout",
     "output_type": "stream",
     "text": [
      "{1, 2, 3, 5}\n",
      "{1, 2, 3, 5}\n",
      "{1, 2, 3, 5}\n",
      "{1, 2, 3, 100, 5}\n"
     ]
    }
   ],
   "source": [
    "x={1,2,3}\n",
    "y=x\n",
    "y.add(5)\n",
    "print(x)\n",
    "print(y)\n",
    "z=x.copy()\n",
    "z.add(100)\n",
    "print(x)\n",
    "print(z)"
   ]
  },
  {
   "cell_type": "code",
   "execution_count": 33,
   "metadata": {},
   "outputs": [
    {
     "name": "stdout",
     "output_type": "stream",
     "text": [
      "{'Taipei', 'Beijing', 'Tokyo'}\n",
      "{'Taipei', 'Tokyo'}\n"
     ]
    }
   ],
   "source": [
    "cities={'Taipei','Beijing','Tokyo'}\n",
    "print(cities)\n",
    "cities.remove('Beijing')\n",
    "print(cities)"
   ]
  },
  {
   "cell_type": "code",
   "execution_count": 34,
   "metadata": {},
   "outputs": [
    {
     "name": "stdout",
     "output_type": "stream",
     "text": [
      "{'Taipei', 'Beijing', 'Tokyo'}\n"
     ]
    },
    {
     "ename": "KeyError",
     "evalue": "'Tainan'",
     "output_type": "error",
     "traceback": [
      "\u001b[1;31m---------------------------------------------------------------------------\u001b[0m",
      "\u001b[1;31mKeyError\u001b[0m                                  Traceback (most recent call last)",
      "\u001b[1;32m<ipython-input-34-a3ff52af1ab1>\u001b[0m in \u001b[0;36m<module>\u001b[1;34m()\u001b[0m\n\u001b[0;32m      1\u001b[0m \u001b[0mcities\u001b[0m\u001b[1;33m=\u001b[0m\u001b[1;33m{\u001b[0m\u001b[1;34m'Taipei'\u001b[0m\u001b[1;33m,\u001b[0m\u001b[1;34m'Beijing'\u001b[0m\u001b[1;33m,\u001b[0m\u001b[1;34m'Tokyo'\u001b[0m\u001b[1;33m}\u001b[0m\u001b[1;33m\u001b[0m\u001b[0m\n\u001b[0;32m      2\u001b[0m \u001b[0mprint\u001b[0m\u001b[1;33m(\u001b[0m\u001b[0mcities\u001b[0m\u001b[1;33m)\u001b[0m\u001b[1;33m\u001b[0m\u001b[0m\n\u001b[1;32m----> 3\u001b[1;33m \u001b[0mcities\u001b[0m\u001b[1;33m.\u001b[0m\u001b[0mremove\u001b[0m\u001b[1;33m(\u001b[0m\u001b[1;34m'Tainan'\u001b[0m\u001b[1;33m)\u001b[0m\u001b[1;33m\u001b[0m\u001b[0m\n\u001b[0m\u001b[0;32m      4\u001b[0m \u001b[0mprint\u001b[0m\u001b[1;33m(\u001b[0m\u001b[0mcities\u001b[0m\u001b[1;33m)\u001b[0m\u001b[1;33m\u001b[0m\u001b[0m\n",
      "\u001b[1;31mKeyError\u001b[0m: 'Tainan'"
     ]
    }
   ],
   "source": [
    "cities={'Taipei','Beijing','Tokyo'}\n",
    "print(cities)\n",
    "cities.remove('Tainan')\n",
    "print(cities)"
   ]
  },
  {
   "cell_type": "code",
   "execution_count": 35,
   "metadata": {},
   "outputs": [
    {
     "name": "stdout",
     "output_type": "stream",
     "text": [
      "{'Taipei', 'Beijing', 'Tokyo'}\n",
      "{'Taipei', 'Tokyo'}\n",
      "{'Taipei', 'Tokyo'}\n"
     ]
    }
   ],
   "source": [
    "cities={'Taipei','Beijing','Tokyo'}\n",
    "print(cities)\n",
    "cities.discard('Beijing')\n",
    "print(cities)\n",
    "cities.discard('Tainan')\n",
    "print(cities)"
   ]
  },
  {
   "cell_type": "code",
   "execution_count": 36,
   "metadata": {},
   "outputs": [
    {
     "name": "stdout",
     "output_type": "stream",
     "text": [
      "None\n",
      "None\n"
     ]
    }
   ],
   "source": [
    "cities={'Taipei','Beijing','Tokyo'}\n",
    "print(cities.discard('Beijing'))\n",
    "print(cities.discard('Tainan'))"
   ]
  },
  {
   "cell_type": "code",
   "execution_count": 37,
   "metadata": {},
   "outputs": [
    {
     "name": "stdout",
     "output_type": "stream",
     "text": [
      "{'Beijing', 'Tokyo'}\n",
      "Taipei\n"
     ]
    }
   ],
   "source": [
    "cities={'Taipei','Beijing','Tokyo'}\n",
    "x=cities.pop()\n",
    "print(cities)\n",
    "print(x)"
   ]
  },
  {
   "cell_type": "code",
   "execution_count": 39,
   "metadata": {},
   "outputs": [
    {
     "name": "stdout",
     "output_type": "stream",
     "text": [
      "{'Taipei', 'Beijing', 'Tokyo'}\n",
      "set()\n",
      "set()\n",
      "set()\n"
     ]
    }
   ],
   "source": [
    "cities={'Taipei','Beijing','Tokyo'}\n",
    "print(cities)\n",
    "cities.clear()\n",
    "print(cities)\n",
    "cities=set()\n",
    "print(cities)\n",
    "cities.clear()\n",
    "print(cities)"
   ]
  },
  {
   "cell_type": "code",
   "execution_count": 41,
   "metadata": {},
   "outputs": [
    {
     "name": "stdout",
     "output_type": "stream",
     "text": [
      "True\n",
      "False\n"
     ]
    }
   ],
   "source": [
    "A={'a','b','c'}\n",
    "B={'q','w','e'}\n",
    "C={'a','i','o'}\n",
    "x=A.isdisjoint(B)\n",
    "print(x)\n",
    "y=A.isdisjoint(C)\n",
    "print(y)"
   ]
  },
  {
   "cell_type": "code",
   "execution_count": 42,
   "metadata": {},
   "outputs": [
    {
     "name": "stdout",
     "output_type": "stream",
     "text": [
      "True\n",
      "False\n"
     ]
    }
   ],
   "source": [
    "A={'a','b','c','d','e'}\n",
    "B={'q','b','c'}\n",
    "C={'a','b','c'}\n",
    "x=C.issubset(A)\n",
    "print(x)\n",
    "y=B.issubset(A)\n",
    "print(y)"
   ]
  },
  {
   "cell_type": "code",
   "execution_count": 43,
   "metadata": {},
   "outputs": [
    {
     "name": "stdout",
     "output_type": "stream",
     "text": [
      "True\n",
      "False\n"
     ]
    }
   ],
   "source": [
    "A={'a','b','c','d','e'}\n",
    "B={'q','b','c'}\n",
    "C={'a','b','c'}\n",
    "x=A.issuperset(C)\n",
    "print(x)\n",
    "y=A.issuperset(B)\n",
    "print(y)"
   ]
  },
  {
   "cell_type": "code",
   "execution_count": 47,
   "metadata": {},
   "outputs": [
    {
     "name": "stdout",
     "output_type": "stream",
     "text": [
      "None\n",
      "{'c', 'a'}\n",
      "{'c', 'k', 'a'}\n",
      "None\n",
      "{'c'}\n",
      "{'c', 'k', 'a'}\n",
      "{'c', 'f', 'w'}\n"
     ]
    }
   ],
   "source": [
    "A={'a','b','c','d'}\n",
    "B={'a','k','c'}\n",
    "C={'c','f','w'}\n",
    "x=A.intersection_update(B)\n",
    "print(x)\n",
    "print(A)\n",
    "print(B)\n",
    "x=A.intersection_update(B,C)\n",
    "print(x)\n",
    "print(A)\n",
    "print(B)\n",
    "print(C)"
   ]
  },
  {
   "cell_type": "code",
   "execution_count": 48,
   "metadata": {},
   "outputs": [
    {
     "name": "stdout",
     "output_type": "stream",
     "text": [
      "{'Toyota', 'Audi', 'Ford'}\n",
      "{'Toyota', 'Nissan'}\n",
      "{'Toyota', 'Ford', 'Nissan', 'Audi'}\n",
      "{'Toyota', 'Nissan'}\n"
     ]
    }
   ],
   "source": [
    "cars1={'Audi','Ford','Toyota'}\n",
    "cars2={'Nissan','Toyota'}\n",
    "print(cars1)\n",
    "print(cars2)\n",
    "cars1.update(cars2)\n",
    "print(cars1)\n",
    "print(cars2)"
   ]
  },
  {
   "cell_type": "code",
   "execution_count": 49,
   "metadata": {},
   "outputs": [
    {
     "name": "stdout",
     "output_type": "stream",
     "text": [
      "{'Toyota', 'Audi', 'Ford'}\n",
      "{'Toyota', 'Nissan'}\n",
      "{'Audi', 'Ford'}\n",
      "{'Toyota', 'Nissan'}\n"
     ]
    }
   ],
   "source": [
    "cars1={'Audi','Ford','Toyota'}\n",
    "cars2={'Nissan','Toyota'}\n",
    "print(cars1)\n",
    "print(cars2)\n",
    "cars1.difference_update(cars2)\n",
    "print(cars1)\n",
    "print(cars2)"
   ]
  },
  {
   "cell_type": "code",
   "execution_count": 51,
   "metadata": {},
   "outputs": [
    {
     "name": "stdout",
     "output_type": "stream",
     "text": [
      "{'Toyota', 'Audi', 'Ford'}\n",
      "{'Toyota', 'Nissan'}\n",
      "{'Nissan', 'Audi', 'Ford'}\n",
      "{'Toyota', 'Nissan'}\n"
     ]
    }
   ],
   "source": [
    "cars1={'Audi','Ford','Toyota'}\n",
    "cars2={'Nissan','Toyota'}\n",
    "print(cars1)\n",
    "print(cars2)\n",
    "cars1.symmetric_difference_update(cars2)\n",
    "print(cars1)\n",
    "print(cars2)"
   ]
  },
  {
   "cell_type": "code",
   "execution_count": 53,
   "metadata": {},
   "outputs": [
    {
     "name": "stdout",
     "output_type": "stream",
     "text": [
      "9\n",
      "1\n",
      "32\n",
      "z\n",
      "a\n"
     ]
    }
   ],
   "source": [
    "num={1,3,5,9,8,5,6}\n",
    "ch={'g','a','b','z'}\n",
    "print(max(num))\n",
    "print(min(num))\n",
    "print(sum(num))\n",
    "print(max(ch))\n",
    "print(min(ch))"
   ]
  },
  {
   "cell_type": "code",
   "execution_count": 55,
   "metadata": {},
   "outputs": [
    {
     "name": "stdout",
     "output_type": "stream",
     "text": [
      "6\n",
      "3\n"
     ]
    }
   ],
   "source": [
    "num={1,3,5,9,8,5,6}\n",
    "x={1,'f456a',(1,2,3)}\n",
    "print(len(num))\n",
    "print(len(x))"
   ]
  },
  {
   "cell_type": "code",
   "execution_count": 57,
   "metadata": {},
   "outputs": [
    {
     "name": "stdout",
     "output_type": "stream",
     "text": [
      "['Ford', 'Nissan', 'Toyota']\n",
      "['Toyota', 'Nissan', 'Ford']\n"
     ]
    }
   ],
   "source": [
    "cars={'Nissan','Toyota','Ford'}\n",
    "carslist=sorted(cars) #list\n",
    "carslist1=sorted(cars,reverse=True) #list\n",
    "print(carslist)\n",
    "print(carslist1)"
   ]
  },
  {
   "cell_type": "code",
   "execution_count": 71,
   "metadata": {},
   "outputs": [
    {
     "name": "stdout",
     "output_type": "stream",
     "text": [
      "<enumerate object at 0x0000000B49897360>\n",
      "<class 'enumerate'>\n",
      "[(0, 'coffee'), (1, 'wine'), (2, 'tea')]\n",
      "(0, 'coffee')\n",
      "(1, 'wine')\n",
      "(2, 'tea')\n",
      "0 coffee\n",
      "1 wine\n",
      "2 tea\n"
     ]
    }
   ],
   "source": [
    "drinks={'coffee','tea','wine'}\n",
    "enumerate_drinks=enumerate(drinks)\n",
    "print(enumerate_drinks)\n",
    "print(type(enumerate_drinks))\n",
    "print(list(enumerate_drinks))\n",
    "#########################\n",
    "#for i in enumerate_drinks:\n",
    "   # print(i)\n",
    "for i in enumerate(drinks):\n",
    "    print(i)\n",
    "for i,j in enumerate(drinks):\n",
    "    print(i,j)"
   ]
  },
  {
   "cell_type": "code",
   "execution_count": 72,
   "metadata": {},
   "outputs": [
    {
     "name": "stdout",
     "output_type": "stream",
     "text": [
      "frozenset({1, 3, 5})\n",
      "frozenset({1, 5, 9})\n",
      "frozenset({1, 5})\n",
      "frozenset({1, 3, 5, 9})\n",
      "frozenset({3})\n"
     ]
    },
    {
     "ename": "AttributeError",
     "evalue": "'frozenset' object has no attribute 'add'",
     "output_type": "error",
     "traceback": [
      "\u001b[1;31m---------------------------------------------------------------------------\u001b[0m",
      "\u001b[1;31mAttributeError\u001b[0m                            Traceback (most recent call last)",
      "\u001b[1;32m<ipython-input-72-a07a75c010b6>\u001b[0m in \u001b[0;36m<module>\u001b[1;34m()\u001b[0m\n\u001b[0;32m      9\u001b[0m \u001b[0mprint\u001b[0m\u001b[1;33m(\u001b[0m\u001b[0mb\u001b[0m\u001b[1;33m)\u001b[0m\u001b[1;33m\u001b[0m\u001b[0m\n\u001b[0;32m     10\u001b[0m \u001b[0mprint\u001b[0m\u001b[1;33m(\u001b[0m\u001b[0mc\u001b[0m\u001b[1;33m)\u001b[0m\u001b[1;33m\u001b[0m\u001b[0m\n\u001b[1;32m---> 11\u001b[1;33m \u001b[0mx\u001b[0m\u001b[1;33m.\u001b[0m\u001b[0madd\u001b[0m\u001b[1;33m(\u001b[0m\u001b[1;36m1\u001b[0m\u001b[1;33m)\u001b[0m\u001b[1;33m\u001b[0m\u001b[0m\n\u001b[0m",
      "\u001b[1;31mAttributeError\u001b[0m: 'frozenset' object has no attribute 'add'"
     ]
    }
   ],
   "source": [
    "x=frozenset([1,3,5])\n",
    "y=frozenset([1,5,9])\n",
    "a=x&y\n",
    "b=x|y\n",
    "c=x-y\n",
    "print(x)\n",
    "print(y)\n",
    "print(a)\n",
    "print(b)\n",
    "print(c)\n",
    "x.add(1)"
   ]
  },
  {
   "cell_type": "code",
   "execution_count": 73,
   "metadata": {},
   "outputs": [
    {
     "name": "stdout",
     "output_type": "stream",
     "text": [
      "{1, 2, 3}\n"
     ]
    },
    {
     "ename": "AttributeError",
     "evalue": "'set' object has no attribute 'append'",
     "output_type": "error",
     "traceback": [
      "\u001b[1;31m---------------------------------------------------------------------------\u001b[0m",
      "\u001b[1;31mAttributeError\u001b[0m                            Traceback (most recent call last)",
      "\u001b[1;32m<ipython-input-73-e2899fcc05aa>\u001b[0m in \u001b[0;36m<module>\u001b[1;34m()\u001b[0m\n\u001b[0;32m      1\u001b[0m \u001b[0mx\u001b[0m\u001b[1;33m=\u001b[0m\u001b[0mset\u001b[0m\u001b[1;33m(\u001b[0m\u001b[1;33m[\u001b[0m\u001b[1;36m1\u001b[0m\u001b[1;33m,\u001b[0m\u001b[1;36m2\u001b[0m\u001b[1;33m,\u001b[0m\u001b[1;36m3\u001b[0m\u001b[1;33m]\u001b[0m\u001b[1;33m)\u001b[0m\u001b[1;33m\u001b[0m\u001b[0m\n\u001b[0;32m      2\u001b[0m \u001b[0mprint\u001b[0m\u001b[1;33m(\u001b[0m\u001b[0mx\u001b[0m\u001b[1;33m)\u001b[0m\u001b[1;33m\u001b[0m\u001b[0m\n\u001b[1;32m----> 3\u001b[1;33m \u001b[0mx\u001b[0m\u001b[1;33m.\u001b[0m\u001b[0mappend\u001b[0m\u001b[1;33m(\u001b[0m\u001b[1;36m1\u001b[0m\u001b[1;33m)\u001b[0m\u001b[1;33m\u001b[0m\u001b[0m\n\u001b[0m",
      "\u001b[1;31mAttributeError\u001b[0m: 'set' object has no attribute 'append'"
     ]
    }
   ],
   "source": [
    "x=set([1,2,3])\n",
    "print(x)\n",
    "x.append(1)"
   ]
  },
  {
   "cell_type": "code",
   "execution_count": null,
   "metadata": {},
   "outputs": [],
   "source": []
  }
 ],
 "metadata": {
  "kernelspec": {
   "display_name": "Python 3",
   "language": "python",
   "name": "python3"
  },
  "language_info": {
   "codemirror_mode": {
    "name": "ipython",
    "version": 3
   },
   "file_extension": ".py",
   "mimetype": "text/x-python",
   "name": "python",
   "nbconvert_exporter": "python",
   "pygments_lexer": "ipython3",
   "version": "3.6.5"
  }
 },
 "nbformat": 4,
 "nbformat_minor": 2
}
