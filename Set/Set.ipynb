{
 "cells": [
  {
   "cell_type": "code",
   "execution_count": 1,
   "metadata": {},
   "outputs": [
    {
     "name": "stdout",
     "output_type": "stream",
     "text": [
      "<class 'set'>\n",
      "{123, 'banana', 'apple'}\n"
     ]
    }
   ],
   "source": [
    "#can't add list, set, and dictionary\n",
    "set1={'apple','banana',123}\n",
    "print(type(set1))\n",
    "print(set1)"
   ]
  },
  {
   "cell_type": "code",
   "execution_count": 1,
   "metadata": {},
   "outputs": [
    {
     "name": "stdout",
     "output_type": "stream",
     "text": [
      "{'Python', 'C', 'Java'}\n"
     ]
    }
   ],
   "source": [
    "set1={'Java','Python','C','Python','Java'}\n",
    "print(set1)"
   ]
  },
  {
   "cell_type": "code",
   "execution_count": 2,
   "metadata": {},
   "outputs": [
    {
     "name": "stdout",
     "output_type": "stream",
     "text": [
      "{1, 2, 5}\n",
      "{1, 'Python', (2, 5, 6)}\n"
     ]
    }
   ],
   "source": [
    "set1={1,2,5}\n",
    "print(set1)\n",
    "set1={1,'Python',(2,5,6)}\n",
    "print(set1)"
   ]
  },
  {
   "cell_type": "code",
   "execution_count": 3,
   "metadata": {},
   "outputs": [
    {
     "ename": "TypeError",
     "evalue": "unhashable type: 'list'",
     "output_type": "error",
     "traceback": [
      "\u001b[1;31m---------------------------------------------------------------------------\u001b[0m",
      "\u001b[1;31mTypeError\u001b[0m                                 Traceback (most recent call last)",
      "\u001b[1;32m<ipython-input-3-5e01450760a9>\u001b[0m in \u001b[0;36m<module>\u001b[1;34m()\u001b[0m\n\u001b[1;32m----> 1\u001b[1;33m \u001b[0mset1\u001b[0m\u001b[1;33m=\u001b[0m\u001b[1;33m{\u001b[0m\u001b[1;36m1\u001b[0m\u001b[1;33m,\u001b[0m\u001b[1;34m'Python'\u001b[0m\u001b[1;33m,\u001b[0m\u001b[1;33m[\u001b[0m\u001b[1;36m2\u001b[0m\u001b[1;33m,\u001b[0m\u001b[1;36m5\u001b[0m\u001b[1;33m,\u001b[0m\u001b[1;36m6\u001b[0m\u001b[1;33m]\u001b[0m\u001b[1;33m}\u001b[0m\u001b[1;33m\u001b[0m\u001b[0m\n\u001b[0m",
      "\u001b[1;31mTypeError\u001b[0m: unhashable type: 'list'"
     ]
    }
   ],
   "source": [
    "set1={1,'Python',[2,5,6]}"
   ]
  },
  {
   "cell_type": "code",
   "execution_count": 5,
   "metadata": {},
   "outputs": [
    {
     "name": "stdout",
     "output_type": "stream",
     "text": [
      "{}\n",
      "<class 'dict'>\n"
     ]
    }
   ],
   "source": [
    "x={}\n",
    "print(x)\n",
    "print(type(x)) # not set"
   ]
  },
  {
   "cell_type": "code",
   "execution_count": 7,
   "metadata": {},
   "outputs": [
    {
     "name": "stdout",
     "output_type": "stream",
     "text": [
      "<class 'dict'>\n",
      "<class 'set'>\n"
     ]
    }
   ],
   "source": [
    "empty_dict={}\n",
    "empty_set=set()\n",
    "print(type(empty_dict))\n",
    "print(type(empty_set))"
   ]
  },
  {
   "cell_type": "code",
   "execution_count": 9,
   "metadata": {},
   "outputs": [
    {
     "name": "stdout",
     "output_type": "stream",
     "text": [
      "{' ', 'd', 'H', 'l', 'o', 'r', 'W', 'e'}\n"
     ]
    }
   ],
   "source": [
    "string='Hello World'\n",
    "set1=set(string)\n",
    "print(set1)"
   ]
  },
  {
   "cell_type": "code",
   "execution_count": 10,
   "metadata": {},
   "outputs": [
    {
     "name": "stdout",
     "output_type": "stream",
     "text": [
      "{'orange', 'banana', 'watermelon', 'apple'}\n"
     ]
    }
   ],
   "source": [
    "fruits=['apple','banana','orange','watermelon']\n",
    "set1=set(fruits)\n",
    "print(set1)"
   ]
  },
  {
   "cell_type": "code",
   "execution_count": 11,
   "metadata": {},
   "outputs": [
    {
     "name": "stdout",
     "output_type": "stream",
     "text": [
      "{'orange', 'banana', 'watermelon', 'apple'}\n"
     ]
    }
   ],
   "source": [
    "fruits=('apple','banana','orange','watermelon')\n",
    "set2=set(fruits)\n",
    "print(set2)"
   ]
  },
  {
   "cell_type": "code",
   "execution_count": 12,
   "metadata": {},
   "outputs": [
    {
     "name": "stdout",
     "output_type": "stream",
     "text": [
      "['apple', 'banana', 'orange', 'watermelon', 'apple', 'banana']\n",
      "['orange', 'banana', 'watermelon', 'apple']\n"
     ]
    }
   ],
   "source": [
    "fruits=['apple','banana','orange','watermelon','apple','banana']\n",
    "x=set(fruits)\n",
    "fruits2=list(x)\n",
    "print(fruits)\n",
    "print(fruits2)"
   ]
  },
  {
   "cell_type": "code",
   "execution_count": 13,
   "metadata": {},
   "outputs": [
    {
     "name": "stdout",
     "output_type": "stream",
     "text": [
      "{'Peter'}\n"
     ]
    }
   ],
   "source": [
    "math={'Kevin','Peter','Eric'}\n",
    "physics={'Peter','Jimmy','Tom'}\n",
    "same=math&physics\n",
    "print(same)"
   ]
  },
  {
   "cell_type": "code",
   "execution_count": 15,
   "metadata": {},
   "outputs": [
    {
     "name": "stdout",
     "output_type": "stream",
     "text": [
      "{'Peter'}\n",
      "{'Peter'}\n"
     ]
    }
   ],
   "source": [
    "math={'Kevin','Peter','Eric'}\n",
    "physics={'Peter','Jimmy','Tom'}\n",
    "same=math.intersection(physics)\n",
    "print(same)\n",
    "same1=physics.intersection(math)\n",
    "print(same1)"
   ]
  },
  {
   "cell_type": "code",
   "execution_count": 16,
   "metadata": {},
   "outputs": [
    {
     "name": "stdout",
     "output_type": "stream",
     "text": [
      "{'Jimmy', 'Kevin', 'Eric', 'Tom', 'Peter'}\n"
     ]
    }
   ],
   "source": [
    "math={'Kevin','Peter','Eric'}\n",
    "physics={'Peter','Jimmy','Tom'}\n",
    "allp=math|physics\n",
    "print(allp)"
   ]
  },
  {
   "cell_type": "code",
   "execution_count": 17,
   "metadata": {},
   "outputs": [
    {
     "name": "stdout",
     "output_type": "stream",
     "text": [
      "{'Jimmy', 'Kevin', 'Eric', 'Tom', 'Peter'}\n",
      "{'Jimmy', 'Kevin', 'Eric', 'Tom', 'Peter'}\n"
     ]
    }
   ],
   "source": [
    "math={'Kevin','Peter','Eric'}\n",
    "physics={'Peter','Jimmy','Tom'}\n",
    "allp=math.union(physics)\n",
    "print(allp)\n",
    "allp1=physics.union(math)\n",
    "print(allp1)"
   ]
  },
  {
   "cell_type": "code",
   "execution_count": 18,
   "metadata": {},
   "outputs": [
    {
     "name": "stdout",
     "output_type": "stream",
     "text": [
      "{'Eric', 'Kevin'}\n"
     ]
    }
   ],
   "source": [
    "math={'Kevin','Peter','Eric'}\n",
    "physics={'Peter','Jimmy','Tom'}\n",
    "diff=math-physics\n",
    "print(diff)"
   ]
  },
  {
   "cell_type": "code",
   "execution_count": null,
   "metadata": {},
   "outputs": [],
   "source": []
  }
 ],
 "metadata": {
  "kernelspec": {
   "display_name": "Python 3",
   "language": "python",
   "name": "python3"
  },
  "language_info": {
   "codemirror_mode": {
    "name": "ipython",
    "version": 3
   },
   "file_extension": ".py",
   "mimetype": "text/x-python",
   "name": "python",
   "nbconvert_exporter": "python",
   "pygments_lexer": "ipython3",
   "version": "3.6.5"
  }
 },
 "nbformat": 4,
 "nbformat_minor": 2
}
