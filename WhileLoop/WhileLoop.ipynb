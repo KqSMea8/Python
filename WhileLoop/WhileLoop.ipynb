{
 "cells": [
  {
   "cell_type": "code",
   "execution_count": null,
   "metadata": {},
   "outputs": [],
   "source": [
    "#while condition\n",
    "#    code block"
   ]
  },
  {
   "cell_type": "code",
   "execution_count": 2,
   "metadata": {},
   "outputs": [
    {
     "name": "stdout",
     "output_type": "stream",
     "text": [
      "10\n"
     ]
    }
   ],
   "source": [
    "total=0\n",
    "i=1\n",
    "while i<5:\n",
    "    total+=i\n",
    "    i+=1\n",
    "print(total)"
   ]
  },
  {
   "cell_type": "code",
   "execution_count": 3,
   "metadata": {},
   "outputs": [
    {
     "name": "stdout",
     "output_type": "stream",
     "text": [
      "19\n"
     ]
    }
   ],
   "source": [
    "# a is a given sorted list\n",
    "a=[5,4,4,3,2,1,-1,-2,-3,-5]\n",
    "sum=0\n",
    "i=0\n",
    "while a[i]>0:\n",
    "    sum+=a[i]\n",
    "    i+=1\n",
    "print(sum)"
   ]
  },
  {
   "cell_type": "code",
   "execution_count": 6,
   "metadata": {},
   "outputs": [
    {
     "name": "stdout",
     "output_type": "stream",
     "text": [
      "19\n"
     ]
    }
   ],
   "source": [
    "a=[5,4,4,3,2,1]\n",
    "sum=0\n",
    "i=0\n",
    "while i<len(a) and a[i]>0:\n",
    "    sum+=a[i]\n",
    "    i+=1\n",
    "print(sum)"
   ]
  },
  {
   "cell_type": "code",
   "execution_count": 7,
   "metadata": {},
   "outputs": [
    {
     "name": "stdout",
     "output_type": "stream",
     "text": [
      "19\n"
     ]
    }
   ],
   "source": [
    "a=[5,4,4,3,2,1,-1,-2,-3,-5]\n",
    "sum=0\n",
    "for element in a:\n",
    "    if element<0:\n",
    "        break\n",
    "    sum+=element\n",
    "print(sum)"
   ]
  },
  {
   "cell_type": "code",
   "execution_count": 8,
   "metadata": {},
   "outputs": [
    {
     "name": "stdout",
     "output_type": "stream",
     "text": [
      "19\n"
     ]
    }
   ],
   "source": [
    "a=[5,4,4,3,2,1,-1,-2,-3,-5]\n",
    "sum=0\n",
    "i=0\n",
    "while True:\n",
    "    if a[i]<0:\n",
    "        break\n",
    "    sum+=a[i]\n",
    "    i+=1\n",
    "print(sum)"
   ]
  },
  {
   "cell_type": "code",
   "execution_count": 3,
   "metadata": {},
   "outputs": [
    {
     "name": "stdout",
     "output_type": "stream",
     "text": [
      "input:20\n",
      "=20\n",
      "input:30\n",
      "=30\n",
      "input:e\n",
      "=e\n",
      "input:q\n",
      "=q\n"
     ]
    }
   ],
   "source": [
    "msg=''\n",
    "while msg!='q':\n",
    "    msg=input('input:')\n",
    "    print('='+msg)"
   ]
  },
  {
   "cell_type": "code",
   "execution_count": 4,
   "metadata": {},
   "outputs": [
    {
     "name": "stdout",
     "output_type": "stream",
     "text": [
      "input:20\n",
      "=20\n",
      "input:q\n"
     ]
    }
   ],
   "source": [
    "msg=''\n",
    "while msg!='q':\n",
    "    msg=input('input:')\n",
    "    if msg!='q':\n",
    "        print('='+msg)"
   ]
  },
  {
   "cell_type": "code",
   "execution_count": 1,
   "metadata": {},
   "outputs": [
    {
     "name": "stdout",
     "output_type": "stream",
     "text": [
      "input:20\n",
      "=20\n",
      "input:10\n",
      "=10\n",
      "input:q\n"
     ]
    }
   ],
   "source": [
    "msg=''\n",
    "active=True\n",
    "while active:\n",
    "    msg=input('input:')\n",
    "    if msg!='q':\n",
    "        print('='+msg)\n",
    "    else:\n",
    "        active=False"
   ]
  },
  {
   "cell_type": "code",
   "execution_count": 3,
   "metadata": {},
   "outputs": [
    {
     "name": "stdout",
     "output_type": "stream",
     "text": [
      "enter a number:20\n",
      "guess larger\n",
      "enter a number:25\n",
      "guess larger\n",
      "enter a number:30\n",
      "congradulations\n"
     ]
    }
   ],
   "source": [
    "answer=30\n",
    "active=True\n",
    "while active:\n",
    "    number=int(input('enter a number:'))\n",
    "    if number>answer:\n",
    "        print('guess smaller')\n",
    "    elif number==answer:\n",
    "        print('congradulations')\n",
    "        active=False\n",
    "    else:\n",
    "        print('guess larger')"
   ]
  },
  {
   "cell_type": "code",
   "execution_count": 4,
   "metadata": {},
   "outputs": [
    {
     "name": "stdout",
     "output_type": "stream",
     "text": [
      "1\n",
      "2\n",
      "3\n",
      "4\n",
      "5\n"
     ]
    }
   ],
   "source": [
    "index=1\n",
    "while index<=5:\n",
    "    print(index)\n",
    "    index+=1"
   ]
  },
  {
   "cell_type": "code",
   "execution_count": 7,
   "metadata": {},
   "outputs": [
    {
     "name": "stdout",
     "output_type": "stream",
     "text": [
      "1*1=1   1*2=2   1*3=3   1*4=4   1*5=5   1*6=6   1*7=7   1*8=8   1*9=9   \n",
      "2*1=2   2*2=4   2*3=6   2*4=8   2*5=10  2*6=12  2*7=14  2*8=16  2*9=18  \n",
      "3*1=3   3*2=6   3*3=9   3*4=12  3*5=15  3*6=18  3*7=21  3*8=24  3*9=27  \n",
      "4*1=4   4*2=8   4*3=12  4*4=16  4*5=20  4*6=24  4*7=28  4*8=32  4*9=36  \n",
      "5*1=5   5*2=10  5*3=15  5*4=20  5*5=25  5*6=30  5*7=35  5*8=40  5*9=45  \n",
      "6*1=6   6*2=12  6*3=18  6*4=24  6*5=30  6*6=36  6*7=42  6*8=48  6*9=54  \n",
      "7*1=7   7*2=14  7*3=21  7*4=28  7*5=35  7*6=42  7*7=49  7*8=56  7*9=63  \n",
      "8*1=8   8*2=16  8*3=24  8*4=32  8*5=40  8*6=48  8*7=56  8*8=64  8*9=72  \n",
      "9*1=9   9*2=18  9*3=27  9*4=36  9*5=45  9*6=54  9*7=63  9*8=72  9*9=81  \n"
     ]
    }
   ],
   "source": [
    "i=1\n",
    "j=1\n",
    "while i<=9:\n",
    "    while j<=9:\n",
    "        print('%d*%d=%-3d'%(i,j,i*j),end=' ')\n",
    "        j+=1\n",
    "    j=1\n",
    "    i+=1\n",
    "    print(\"\")"
   ]
  },
  {
   "cell_type": "code",
   "execution_count": 8,
   "metadata": {},
   "outputs": [
    {
     "name": "stdout",
     "output_type": "stream",
     "text": [
      "input:20\n",
      "=20\n",
      "input:20\n",
      "=20\n",
      "input:30\n",
      "=30\n",
      "input:a\n",
      "=a\n",
      "input:q\n"
     ]
    }
   ],
   "source": [
    "msg=''\n",
    "while True:\n",
    "    msg=input('input:')\n",
    "    if msg=='q':\n",
    "        break\n",
    "    else:\n",
    "        print('='+msg)"
   ]
  },
  {
   "cell_type": "code",
   "execution_count": 2,
   "metadata": {},
   "outputs": [
    {
     "name": "stdout",
     "output_type": "stream",
     "text": [
      "2\n",
      "4\n",
      "6\n",
      "8\n",
      "10\n"
     ]
    }
   ],
   "source": [
    "index=0\n",
    "while index<=10:\n",
    "    index+=1\n",
    "    if index%2!=0:\n",
    "        continue\n",
    "    else:\n",
    "        print(index)"
   ]
  },
  {
   "cell_type": "code",
   "execution_count": 4,
   "metadata": {},
   "outputs": [
    {
     "name": "stdout",
     "output_type": "stream",
     "text": [
      "['banana', 'orange']\n"
     ]
    }
   ],
   "source": [
    "fruits=['apple','banana','orange','apple','apple']\n",
    "fruit='apple'\n",
    "while fruit in fruits:\n",
    "    fruits.remove(fruit)\n",
    "print(fruits)"
   ]
  },
  {
   "cell_type": "code",
   "execution_count": 7,
   "metadata": {},
   "outputs": [
    {
     "name": "stdout",
     "output_type": "stream",
     "text": [
      "[['David', 2110], ['Durant', 2050], ['James', 1030]]\n",
      "[['Jordan', 990], ['Curry', 893]]\n",
      "[]\n"
     ]
    }
   ],
   "source": [
    "buyers=[['James',1030],['Curry',893],['Durant',2050],['Jordan',990],['David',2110]]\n",
    "goldenbuyer=[]\n",
    "vipbuyer=[]\n",
    "while buyers:\n",
    "    index_buyer=buyers.pop()\n",
    "    if index_buyer[1]>1000:\n",
    "        vipbuyer.append(index_buyer)\n",
    "    else:\n",
    "        goldenbuyer.append(index_buyer)\n",
    "print(vipbuyer)\n",
    "print(goldenbuyer)\n",
    "print(buyers)"
   ]
  },
  {
   "cell_type": "code",
   "execution_count": 12,
   "metadata": {},
   "outputs": [
    {
     "name": "stdout",
     "output_type": "stream",
     "text": [
      "[(0, 'tea'), (1, 'coffee'), (2, 'wine')]\n",
      "(0, 'tea')\n",
      "(1, 'coffee')\n",
      "(2, 'wine')\n",
      "0 tea\n",
      "1 coffee\n",
      "2 wine\n"
     ]
    }
   ],
   "source": [
    "drinks=['tea','coffee','wine']\n",
    "edrinks=enumerate(drinks)\n",
    "print(list(edrinks))\n",
    "for drink in enumerate(drinks):\n",
    "    print(drink)\n",
    "for count,drink in enumerate(drinks):\n",
    "    print(count,drink)"
   ]
  },
  {
   "cell_type": "code",
   "execution_count": null,
   "metadata": {},
   "outputs": [],
   "source": []
  }
 ],
 "metadata": {
  "kernelspec": {
   "display_name": "Python 3",
   "language": "python",
   "name": "python3"
  },
  "language_info": {
   "codemirror_mode": {
    "name": "ipython",
    "version": 3
   },
   "file_extension": ".py",
   "mimetype": "text/x-python",
   "name": "python",
   "nbconvert_exporter": "python",
   "pygments_lexer": "ipython3",
   "version": "3.6.5"
  }
 },
 "nbformat": 4,
 "nbformat_minor": 2
}
